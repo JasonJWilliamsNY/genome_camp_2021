{
 "cells": [
  {
   "cell_type": "markdown",
   "id": "b9b7253b-73f0-4e6d-9ae6-568b406288d8",
   "metadata": {},
   "source": [
    "# Data triming and filtering with fastp"
   ]
  },
  {
   "cell_type": "markdown",
   "id": "e6f45b86-fe59-43d5-90dc-caba8b1fde08",
   "metadata": {},
   "source": [
    "[fastp](https://github.com/OpenGene/fastp) is \"A tool designed to provide fast all-in-one preprocessing for FastQ files. This tool is developed in C++ with multithreading supported to afford high performance.\"\n",
    "\n",
    "In otherwords, we can take the FASTQ files (our sequencing data) and do various things to improve the quality of that data such as\n",
    "\n",
    "- Remove reads that have an overal low quality (e.g., low [Phred score](https://en.wikipedia.org/wiki/Phred_quality_score))\n",
    "- Trim portions of a read (e.g., where the first few/last few bases are of low quality)\n",
    "- Remove reads that are shorter than some desired length (e.g., drop short reads and keep long reads)\n",
    "- Remove adapters (e.g., in sequencing, some artificial DNA \"tags\" may be added to the DNA to be sequenced)\n",
    "- And more..."
   ]
  },
  {
   "cell_type": "markdown",
   "id": "ad2615a8-66b2-47c0-a9e1-387d75df2718",
   "metadata": {},
   "source": [
    "## Installing fastp"
   ]
  },
  {
   "cell_type": "markdown",
   "id": "ec3e3586-194d-4690-aecb-fe919ac6a8e7",
   "metadata": {},
   "source": [
    "As always, we will install the software; again we will use conda. \n",
    "\n",
    "**Important**: Make sure you execute each numbered step "
   ]
  },
  {
   "cell_type": "markdown",
   "id": "6a7b44fc-57af-46dc-8fc7-8ffcdec71f16",
   "metadata": {},
   "source": [
    "1. We will search for the tool we want to install\n",
    "\n",
    "We will use the `conda search` command and the channel (`-c`) flag to search [bioconda](https://bioconda.github.io/)"
   ]
  },
  {
   "cell_type": "code",
   "execution_count": null,
   "id": "08ff28bc-7935-4621-ab56-9e4aa55d2e48",
   "metadata": {},
   "outputs": [],
   "source": [
    "conda search fastp -c bioconda"
   ]
  },
  {
   "cell_type": "markdown",
   "id": "a5210a56-559f-4e19-83b1-bf7e201a0eac",
   "metadata": {},
   "source": [
    "2. Create a conda enviornment\n",
    "\n",
    "Conda uses something called \"enviornments\" which are essentially isolated configurations on our computer where we can included all the needed compatible tools and exlude other tools which are unnesessary or would have conflicts with our desired tool. We will use the `-y` option to install without prompting the user for input, the `--name` option to name the enviornment for the tool. We will enforce versioning (`tool==version`) so that we know what version of a tool was used to do an analysis should we wish to repeat the analysis. \n",
    "\n",
    "**Tip**: Use the latest version where possible, but if you get an error with dependancies, using a lower version may help. Some tools may never be installed successfully using conda, but we will face those when we have too. \n"
   ]
  },
  {
   "cell_type": "code",
   "execution_count": null,
   "id": "5fa0a129-6153-46c1-abe3-76e7f591cdd6",
   "metadata": {},
   "outputs": [],
   "source": [
    "conda create -y --name fastp fastp==0.20.0 -c bioconda"
   ]
  },
  {
   "cell_type": "markdown",
   "id": "5b2150d1-0fef-419f-a7d7-aa258c279c54",
   "metadata": {},
   "source": [
    "3. We will use the `conda init` command so that conda can be configured for this shell"
   ]
  },
  {
   "cell_type": "code",
   "execution_count": 1,
   "id": "f464caa7-e680-474f-843c-c132031cf63f",
   "metadata": {},
   "outputs": [
    {
     "name": "stdout",
     "output_type": "stream",
     "text": [
      "no change     /opt/anaconda3/condabin/conda\n",
      "no change     /opt/anaconda3/bin/conda\n",
      "no change     /opt/anaconda3/bin/conda-env\n",
      "no change     /opt/anaconda3/bin/activate\n",
      "no change     /opt/anaconda3/bin/deactivate\n",
      "no change     /opt/anaconda3/etc/profile.d/conda.sh\n",
      "no change     /opt/anaconda3/etc/fish/conf.d/conda.fish\n",
      "no change     /opt/anaconda3/shell/condabin/Conda.psm1\n",
      "no change     /opt/anaconda3/shell/condabin/conda-hook.ps1\n",
      "no change     /opt/anaconda3/lib/python3.9/site-packages/xontrib/conda.xsh\n",
      "no change     /opt/anaconda3/etc/profile.d/conda.csh\n",
      "no change     /home/exouser/.bashrc\n",
      "No action taken.\n"
     ]
    }
   ],
   "source": [
    "conda init"
   ]
  },
  {
   "cell_type": "markdown",
   "id": "2e634b71-ed21-43d4-acba-e087c06a3312",
   "metadata": {},
   "source": [
    "4. **DON'T SKIP**: We need to restart the computer's [kernal](https://en.wikipedia.org/wiki/Kernel_(operating_system)). Go to the **Kernal** menu and choose **Restart Kernal**"
   ]
  },
  {
   "cell_type": "markdown",
   "id": "0aabe38a-6670-40f0-8a6e-c96ff1a953b0",
   "metadata": {},
   "source": [
    "5. Finally, we can activate the conda enviornment (created with the name used for the environment). When you run the next cell it should return the name of the environment.  "
   ]
  },
  {
   "cell_type": "code",
   "execution_count": 2,
   "id": "dad5520c-aca7-44e6-8243-3888a3036a14",
   "metadata": {},
   "outputs": [
    {
     "name": "stdout",
     "output_type": "stream",
     "text": [
      "(fastp) "
     ]
    },
    {
     "ename": "",
     "evalue": "1",
     "output_type": "error",
     "traceback": []
    }
   ],
   "source": [
    "conda activate fastp"
   ]
  },
  {
   "cell_type": "markdown",
   "id": "4b50be32-55f9-4861-ba19-333063f02ec6",
   "metadata": {},
   "source": [
    "## Connecting to our project and dataset folders"
   ]
  },
  {
   "cell_type": "markdown",
   "id": "6d12e945-39e1-4739-a9f2-da2484c19316",
   "metadata": {},
   "source": [
    "We have to check that this notebook is running in the expected directory, and that you have a project folder. When you run the following command, your working directory should be `/home/exouser`\n",
    "\n",
    "1. Check our working directory"
   ]
  },
  {
   "cell_type": "code",
   "execution_count": null,
   "id": "db9c3a7d-d385-411a-a23d-c2aaae70ad73",
   "metadata": {},
   "outputs": [],
   "source": [
    "pwd"
   ]
  },
  {
   "cell_type": "markdown",
   "id": "25760495-989f-44b4-b81a-79905ec591dd",
   "metadata": {},
   "source": [
    "**(Optional)**: If the `pwd` command did not give you `/home/exouser` run the following command, otherwise **skip**. Please also keep in mind - you **should not** be running this notebook in `/mnt/ceph/notebooks`, so ask for help if you get this result."
   ]
  },
  {
   "cell_type": "code",
   "execution_count": null,
   "id": "5b447d50-99ee-4a54-a93d-87f9387f55a6",
   "metadata": {},
   "outputs": [],
   "source": [
    "cd /home/exouser # only run this if needed"
   ]
  },
  {
   "cell_type": "markdown",
   "id": "aa4df6fa-1450-4ce2-91a3-dc70d95a28bf",
   "metadata": {},
   "source": [
    "2. Inspect the `project` folder. \n",
    "\n",
    "You should also have a project folder which is linked to your home folder on the shared drive. Running the following command should generate something like:\n",
    "\n",
    "`lrwxrwxrwx 1 exouser exouser 19 Dec 30 21:27 jwilliams -> /mnt/ceph/YOURUSERNAME`"
   ]
  },
  {
   "cell_type": "code",
   "execution_count": null,
   "id": "2663fe2a-f09a-4074-818a-e714d98ed02a",
   "metadata": {},
   "outputs": [],
   "source": [
    "ls -lh project --color=never"
   ]
  },
  {
   "cell_type": "markdown",
   "id": "e071abfc-7a14-4fb9-b0b5-0c1742eee387",
   "metadata": {},
   "source": [
    "**(Optional)**: If you don't have a `project` folder linked to your folder on the shared drive, run the command below. Remeber to change `YOURUSERNAME` to the name of your folder. "
   ]
  },
  {
   "cell_type": "code",
   "execution_count": null,
   "id": "7ed5689e-6b65-47bf-add6-87fcbfe33efb",
   "metadata": {},
   "outputs": [],
   "source": [
    "mkdir -p project && ln -s /mnt/ceph/YOURUSERNAME project # run only if needed, fix YOURUSERNAME"
   ]
  },
  {
   "cell_type": "markdown",
   "id": "f789ffc2-7022-4067-96cb-a0e614b82bc5",
   "metadata": {},
   "source": [
    "3. Connect to and inspect the folder of FASTQ reads. \n",
    "\n",
    "Let's also make sure the project folder has a link to the FASTQ reads we will use and also create a place for the results of your FastQC analysis. \n",
    "\n",
    "The next command will create a link in your project folder to a location on the shared drive where we have placed all of the Chamecrista FASTQ reads. "
   ]
  },
  {
   "cell_type": "code",
   "execution_count": null,
   "id": "b172ccdb-4f21-4f76-92d7-a4f33c229dd2",
   "metadata": {},
   "outputs": [],
   "source": [
    "ln -s /mnt/ceph/chamecrista_sup_fastq project/chamecrista_fastq"
   ]
  },
  {
   "cell_type": "markdown",
   "id": "1557f09f-ba2a-460f-8692-98cda7fba6fb",
   "metadata": {},
   "source": [
    "The following summarizes what we have:\n",
    "\n",
    "- `called_reads.fastq` : All of the reads done during the 2022 sequencing project\n",
    "- `100_called_reads.fastq`: A subset of the first 100 reads in `called_reads.fastq`\n",
    "- `1000_called_reads.fastq`: A subset of the first 1000 reads in `called_reads.fastq`\n",
    "- `10000_called_reads.fastq`: A subset of the first 10000 reads in `called_reads.fastq`\n",
    "\n",
    "The versions of the above withe the `.gz` file extension are compressed versions of the above list. \n",
    "\n",
    "5. Create an output folder for the `fastp` analysis. \n",
    "\n",
    "Finally, let's create a place in our project directory to store the output of our `fastp` analysis. "
   ]
  },
  {
   "cell_type": "code",
   "execution_count": 8,
   "id": "f2c55a8a-7284-48c8-8398-d457222a8123",
   "metadata": {},
   "outputs": [
    {
     "name": "stdout",
     "output_type": "stream",
     "text": [
      "(fastp) "
     ]
    },
    {
     "ename": "",
     "evalue": "1",
     "output_type": "error",
     "traceback": []
    }
   ],
   "source": [
    "mkdir -p ~/project/fastp_results"
   ]
  },
  {
   "cell_type": "markdown",
   "id": "99e42f02-011d-44fe-938c-c60ae3daa672",
   "metadata": {},
   "source": [
    "## Running fastp"
   ]
  },
  {
   "cell_type": "markdown",
   "id": "ef62d909-f641-4842-b2dc-591b92875fce",
   "metadata": {},
   "source": [
    "First, we will be run fastp on a small subset of the sequence reads. In this exercise, the reads are in the `project/chamecrista_fastq` folder. We will run on a sample that has 1000 fastq files from the experiment (`1000_called_reads.fastq.gz`). \n",
    "\n",
    "**Tip**: When using commands or searching for files, the tab key will help you autocomplete (and help ensure the files and commands you think you have are actually accessible).\n",
    "\n"
   ]
  },
  {
   "cell_type": "markdown",
   "id": "9c9f0817-b40c-43c4-9c98-cbdef866a24a",
   "metadata": {},
   "source": [
    "### fastp options"
   ]
  },
  {
   "cell_type": "markdown",
   "id": "4cf6d89f-cf81-4cf9-94ca-9ef5210bee66",
   "metadata": {},
   "source": [
    "When we call the `fastp` program here are some options we are likely to use (see the [fastp](https://github.com/OpenGene/fastp) documentation for all options):\n",
    "\n",
    "**Note**: We are working with \"single-end\" data so we will only cover these options\n",
    "\n",
    "- `--in1 <file_name.fastq.gz>`: Name of the input file (this is the file to be trimmed)\n",
    "- `--out1 <file_name.fastq.gz>`: Name of the output FASTQ file that should be created (i.e. whatever read triming and filtering; you get to name the output file, choose something descriptive like \"trimmed\"\n",
    "- `--length_required  <some number>`: Remove reads less than this length (bp)\n",
    "- `--average_qual <some number>`: Remove reads when their average quality (Phred score) is below some number. Don't be too strict with Nanopore reads since we expect a lower Phred score on average. Reads with an average less than 9 have been automaticaly excluded during the initial sequencing. \n",
    "- `--thread <some number>`: How many CPUs to use (more will be faster, but you can only use with as many CPUs as you have launched this application with). \n",
    "- `--report_title \"some title in quotes`: A descriptive title for your summary report\n",
    "- `--html <filename.html>`: The name of the file to save your HTML report in"
   ]
  },
  {
   "cell_type": "markdown",
   "id": "1192b971-7a35-47e5-b604-24a6505f6823",
   "metadata": {},
   "source": [
    "### Example 1 - running fastp on `1000_called_reads.fastq.gz`"
   ]
  },
  {
   "cell_type": "markdown",
   "id": "2e53b1ba-6aea-40f7-9aaa-01490f2b2e71",
   "metadata": {},
   "source": [
    "1. Review and run the following `fastp` analysis. Ensure you have a sense of what this command should do\n",
    "\n",
    "**Tip**: Adding a backslash after each command does not change the commands, it just makes it easier to read. These symbols are not interprited by the computer. "
   ]
  },
  {
   "cell_type": "code",
   "execution_count": 9,
   "id": "46ab085c-dc46-4604-83b7-17f26b0b6ad2",
   "metadata": {},
   "outputs": [
    {
     "name": "stdout",
     "output_type": "stream",
     "text": [
      "Detecting adapter sequence for read1...\n",
      "No adapter detected for read1\n",
      "\n",
      "Read1 before filtering:\n",
      "total reads: 1000\n",
      "total bases: 3485276\n",
      "Q20 bases: 2986486(85.6887%)\n",
      "Q30 bases: 2445108(70.1554%)\n",
      "\n",
      "Read1 after filtering:\n",
      "total reads: 567\n",
      "total bases: 3260015\n",
      "Q20 bases: 2809693(86.1865%)\n",
      "Q30 bases: 2302344(70.6237%)\n",
      "\n",
      "Filtering result:\n",
      "reads passed filter: 567\n",
      "reads failed due to low quality: 15\n",
      "reads failed due to too many N: 0\n",
      "reads failed due to too short: 418\n",
      "reads with adapter trimmed: 0\n",
      "bases trimmed due to adapters: 0\n",
      "\n",
      "Duplication rate (may be overestimated since this is SE data): 0%\n",
      "\n",
      "JSON report: /home/exouser/project/fastp_results/1000_called_reads_filtered_example.json\n",
      "HTML report: /home/exouser/project/fastp_results/1000_called_reads_filtered_example.html\n",
      "\n",
      "fastp --in1 /home/exouser/project/chamecrista_fastq/1000_called_reads.fastq.gz --out1 /home/exouser/project/fastp_results/1000_called_reads_filtered.fastq.gz --length_required 1000 --thread 16 --report_title 1000 Reads Sample Reads>= 1000bp --html /home/exouser/project/fastp_results/1000_called_reads_filtered_example.html --json /home/exouser/project/fastp_results/1000_called_reads_filtered_example.json \n",
      "fastp v0.20.0, time used: 2 seconds\n",
      "(fastp) "
     ]
    },
    {
     "ename": "",
     "evalue": "1",
     "output_type": "error",
     "traceback": []
    }
   ],
   "source": [
    "fastp --in1 /home/exouser/project/chamecrista_fastq/1000_called_reads.fastq.gz\\\n",
    "      --out1 /home/exouser/project/fastp_results/1000_called_reads_filtered.fastq.gz\\\n",
    "      --length_required 1000\\\n",
    "      --thread 16\\\n",
    "      --report_title \"1000 Reads Sample Reads>= 1000bp\"\\\n",
    "      --html /home/exouser/project/fastp_results/1000_called_reads_filtered_example.html\\\n",
    "      --json /home/exouser/project/fastp_results/1000_called_reads_filtered_example.json"
   ]
  },
  {
   "cell_type": "markdown",
   "id": "a56b41a3-c994-4e0d-baea-c499e1cf180f",
   "metadata": {},
   "source": [
    "2. In your Jupyter file browser, navigate to `~/project/fastp_results`; you should now have an HTML file entitled `1000_called_reads_filtered_example.html`. Double-click to open and examine the file. \n",
    "**Tip**: This file contains graphcs, but you must click the **Trust HTML** button that will be in the upper-left of the tab that opens\n",
    "\n",
    "### Results\n",
    "\n",
    "Clearly, filtering only by length the number of total reads changes (from 1000 to only 567 that passed this filter). In Nanopore sequencing, length is not really related to sequencing quality. So the other statistics will change (i.e. the number of bases with a Phred score of at least 20), but these changes are minor/not significant. "
   ]
  },
  {
   "cell_type": "markdown",
   "id": "cb4a23f5-3186-4d73-82b3-d407c5ac0912",
   "metadata": {},
   "source": [
    "## Challenge - Use FastP to create your input sequences for assembly"
   ]
  },
  {
   "cell_type": "markdown",
   "id": "8b5cf89f-32ea-491d-bd61-b27cb068c38b",
   "metadata": {},
   "source": [
    "Now, it's up to you to take the entire sequencing dataset (located in `~/project/chamecrista_fastq/called_reads.fastq.gz`) and make choices about how much you want to clean and filter this data. The better data you present to the assembly software, the better the genome assembly you will get. However, there are tradeoffs. \n",
    "\n",
    "Think of this as if you were making an apple pie. You go to by apples, but some have brown spots and some are spoiled. No one wants a pie made of spoiled apples. However, if you insist only on 100% perfect apples, there may not be enough for your pie. \n",
    "\n",
    "In your genome assembly, having longer, high quality reads will help. However you need a minimum of 30-40X   [coverage](https://en.wikipedia.org/wiki/Coverage_(genetics)) for most assemblers to work. \n",
    "\n",
    "\n",
    "### What to do\n",
    "\n",
    "1. Try some fastp filter/trimming tools on the `called_reads.fastq.gz` file located at `~/project/chamecrista_fastq/called_reads.fastq.gz`\n",
    "\n",
    "**Your command should**\n",
    "- start with `fastp`\n",
    "- specify the `--in1` and `--out1` parameters (give your output file a unique and descriptive name)\n",
    "- Use the `--thread` and set to the number of CPUs used when you launched this application on CyVerse\n",
    "- specify the `--report_title` and `--html` and `--json` parameters (again use unique and descriptive names/titles)\n",
    "\n",
    "2. Take note of the number of reads you start and end with - don't be too strict\n",
    "3. You can combine as several of the triming and flitering tools in the [fastp](https://github.com/OpenGene/fastp) documentation\n",
    "4. You should create at least two outputs of reads for triming and filtering - perhaps one that is very conservative (higher read lengths, base qualities) and one not so conservative. \n",
    "\n",
    "In the end, the only way you will know which of your choices are better is to run the genome assembler and see what results you get. Different assemblers will be tolerant of different lengths and qualities. Some assemblers may actually do better with large numbers of lower quality reads (because they use the sheer number of reads to correct for errors)."
   ]
  },
  {
   "cell_type": "code",
   "execution_count": null,
   "id": "23c53477-b5fd-4a64-a961-d92c8711f1a1",
   "metadata": {},
   "outputs": [],
   "source": [
    "# Add as many cells as you need to run your commands. \n",
    "# Make sure you use unique file names and reports each time to keep track. \n",
    "# Be sure to save your work to your folder on CyVerse \n",
    "# You can save to `data/output/` as above or \n",
    "# `/home/shared/cyverse_training/classrooms/dnalc_genome_camp/student_work/YOURFOLDERNAME`\n"
   ]
  },
  {
   "cell_type": "code",
   "execution_count": null,
   "id": "219791bc-12ed-4224-9ee6-74778b7c181a",
   "metadata": {},
   "outputs": [],
   "source": []
  },
  {
   "cell_type": "code",
   "execution_count": null,
   "id": "13f2bf53-ac04-446a-ac9d-582320d9e719",
   "metadata": {},
   "outputs": [],
   "source": []
  },
  {
   "cell_type": "markdown",
   "id": "4c2a1d9f-cb43-4174-8a18-76a037cbe829",
   "metadata": {},
   "source": [
    "## Document your work"
   ]
  },
  {
   "cell_type": "markdown",
   "id": "d3cedc33-b515-4675-8976-b2d732b6e6a9",
   "metadata": {},
   "source": [
    "This is the first notebook where you will be manipulating a file. We need to keep good track on what changes were made/how a file was produced so that we can fully document our work. In this exercise, it will be critical to know how you trimmed and filtered reads. Knowing your settings will allow us to compare results across everyone who does this experiment. You will also be able to go back and reproduce your work if needed. \n"
   ]
  }
 ],
 "metadata": {
  "kernelspec": {
   "display_name": "Bash",
   "language": "bash",
   "name": "bash"
  },
  "language_info": {
   "codemirror_mode": "shell",
   "file_extension": ".sh",
   "mimetype": "text/x-sh",
   "name": "bash"
  }
 },
 "nbformat": 4,
 "nbformat_minor": 5
}
