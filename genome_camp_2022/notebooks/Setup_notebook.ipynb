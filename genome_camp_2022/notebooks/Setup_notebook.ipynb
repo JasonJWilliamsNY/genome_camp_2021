{
 "cells": [
  {
   "cell_type": "markdown",
   "id": "e1d2064a-1bac-45bd-b568-c287f7c7b6ff",
   "metadata": {},
   "source": [
    "# Setup Notebook"
   ]
  },
  {
   "cell_type": "markdown",
   "id": "cd49f1c1-6c75-4983-8edc-ee40be2e0250",
   "metadata": {},
   "source": [
    "This notebook contains a few commands to setup your [virtual machine](https://en.wikipedia.org/wiki/Virtual_machine) by making some work directories and importing data from CyVerse using iCommands. "
   ]
  },
  {
   "cell_type": "markdown",
   "id": "d49c2f82-dcc8-405d-b609-e1de5672d07e",
   "metadata": {
    "tags": []
   },
   "source": [
    "## A little about your computer\n",
    "\n",
    "Your [virtual machine](https://en.wikipedia.org/wiki/Virtual_machine) is a virtual computer. Instead of having a laptop or desktop, you are using some of the CPUs (or GPUs) inside of a larger computer in the [JetStream2](https://jetstream-cloud.org/about/index.html) system. \n",
    "\n",
    " <figure>\n",
    "<img src=\"https://github.com/JasonJWilliamsNY/genome_camp_2021/raw/main/jupyter_photos/tacc_jetstream.JPG\" alt=\"Tacc JetStream Server\" width=\"200\"/> <img src=\"https://github.com/JasonJWilliamsNY/genome_camp_2021/raw/main/jupyter_photos/tacc_nsf.JPG\" alt=\"TACC NSF server\" width=\"200\"/>\n",
    "  <figcaption>Servers running JetStream at the Texas Advanced Computing Center</figcaption>\n",
    "</figure> \n",
    "\n",
    "\n",
    "This allows us to provide any kind of computer you need to do you work, anywhere. This also makes it a bit difficult to know what is going on. Let's use some linux commands to know more about the machine you are using. "
   ]
  },
  {
   "cell_type": "markdown",
   "id": "eae9d744-1b31-461e-90e2-665fa6491c02",
   "metadata": {},
   "source": [
    "We can see how much storage we have using this command"
   ]
  },
  {
   "cell_type": "code",
   "execution_count": 1,
   "id": "5361ed7f-d588-446f-9032-d2e49a6a0106",
   "metadata": {},
   "outputs": [
    {
     "name": "stdout",
     "output_type": "stream",
     "text": [
      "/\u001b[01;31m\u001b[Kdev/sda1 \u001b[m\u001b[K                                                                                                                                                                                        58G   16G   43G  27% /\n"
     ]
    }
   ],
   "source": [
    "df -h |grep \"dev/sda1 \""
   ]
  },
  {
   "cell_type": "markdown",
   "id": "979f2ebd-2fdc-4a6f-a54d-e7dd30d0e959",
   "metadata": {},
   "source": [
    "You should see a result similar to...\n",
    "\n",
    "`/dev/sda1                                                                                  \n",
    "58G   16G   43G  27% /`\n",
    "\n",
    "`/dev/sda1` is usually the main hard drive, and in this case the total hard drive has 58GB of disk space, 16G are used, 43G are free, so we have used 27%. We can do some work with this, but genomics projects get big fast so we will set up some things to handle this shortly. "
   ]
  },
  {
   "cell_type": "markdown",
   "id": "fd71223b-a340-4d91-b8cd-aa85a6e66bee",
   "metadata": {},
   "source": [
    "We can also check the number of CPUs we are working with"
   ]
  },
  {
   "cell_type": "code",
   "execution_count": 2,
   "id": "59581ee4-78d6-46e2-91d4-7c1ae6f88bec",
   "metadata": {},
   "outputs": [
    {
     "name": "stdout",
     "output_type": "stream",
     "text": [
      "\u001b[01;31m\u001b[KCPU(s)\u001b[m\u001b[K:                          8\n",
      "On-line \u001b[01;31m\u001b[KCPU(s)\u001b[m\u001b[K list:             0-7\n",
      "\u001b[01;31m\u001b[KThread\u001b[m\u001b[K(s) per core:              1\n",
      "\u001b[01;31m\u001b[KSocket\u001b[m\u001b[K(s):                       8\n",
      "\u001b[01;31m\u001b[KNUMA\u001b[m\u001b[K node(s):                    1\n",
      "\u001b[01;31m\u001b[KModel name\u001b[m\u001b[K:                      AMD EPYC-Milan Processor\n",
      "\u001b[01;31m\u001b[KNUMA\u001b[m\u001b[K node0 \u001b[01;31m\u001b[KCPU(s)\u001b[m\u001b[K:               0-7\n"
     ]
    }
   ],
   "source": [
    "lscpu | egrep 'Model name|Socket|Thread|NUMA|CPU\\(s\\)'"
   ]
  },
  {
   "cell_type": "markdown",
   "id": "6e98caf4-4cef-4aec-99b6-f89931073886",
   "metadata": {},
   "source": [
    "Which should return a result something like\n",
    "\n",
    "```\n",
    "CPU(s):                          8\n",
    "On-line CPU(s) list:             0-7\n",
    "Thread(s) per core:              1\n",
    "Socket(s):                       8\n",
    "NUMA node(s):                    1\n",
    "Model name:                      AMD EPYC-Milan Processor\n",
    "NUMA node0 CPU(s):               0-7\n",
    "\n",
    "```\n",
    "Meaning we have 8CPUs (numbered 0 through 7) to work with. "
   ]
  },
  {
   "cell_type": "markdown",
   "id": "1ecb7831-7614-4beb-90b0-5b5c7d0854a9",
   "metadata": {},
   "source": [
    "We can also check the name and version of the operating system. "
   ]
  },
  {
   "cell_type": "code",
   "execution_count": 3,
   "id": "48e8a9fb-0195-4140-8eef-7e89c44b435c",
   "metadata": {},
   "outputs": [
    {
     "name": "stdout",
     "output_type": "stream",
     "text": [
      "\u001b[01;31m\u001b[KNAME=\u001b[m\u001b[K\"Ubuntu\"\n",
      "\u001b[01;31m\u001b[KVERSION=\u001b[m\u001b[K\"20.04.5 LTS (Focal Fossa)\"\n"
     ]
    }
   ],
   "source": [
    "egrep '^(VERSION|NAME)=' /etc/os-release "
   ]
  },
  {
   "cell_type": "markdown",
   "id": "8382424b-5af0-4872-bc39-63f99333aeac",
   "metadata": {},
   "source": [
    "We are using [Ubuntu](https://ubuntu.com/), a popular Linux version. Knowing this information will help if we have questions (i.e. Google search can be specific to your system - \"How to install software on Ubuntu system?\"). "
   ]
  },
  {
   "cell_type": "markdown",
   "id": "3c617640-3e18-4cb1-bfa0-d52780793cca",
   "metadata": {},
   "source": [
    "## Making a project directory and linking to shared storage on JetStream2"
   ]
  },
  {
   "cell_type": "markdown",
   "id": "1d88119f-9eb0-4713-8907-01282887d092",
   "metadata": {},
   "source": [
    "Let's make some directories to organize our work. We can create a `project` directory to contain all of our work. All of the virual machines are connected to a central place to store data and we have to link with that source. "
   ]
  },
  {
   "cell_type": "code",
   "execution_count": 4,
   "id": "95eaf1de-cbbf-4e02-9dd9-8d208e1cd615",
   "metadata": {},
   "outputs": [
    {
     "name": "stdout",
     "output_type": "stream",
     "text": [
      "afeitzinger  chamecrista_fast5  jlopez     notebooks\n",
      "candujar     jagosto            jwilliams  tutorial_example\n"
     ]
    }
   ],
   "source": [
    "ls --color=never /mnt/ceph # the color never option turns off coloring which is hard to read here"
   ]
  },
  {
   "cell_type": "markdown",
   "id": "770afb4d-a1c2-4ce9-aff1-746884df4d1a",
   "metadata": {},
   "source": [
    "You should see a directory with your first initial and last name. Let's organize our work by creating a [symbolic link](https://www.freecodecamp.org/news/symlink-tutorial-in-linux-how-to-create-and-remove-a-symbolic-link/). This is like creating a shortcut on your Desktop to a file you want to easily open in the future without having to look for it.  \n",
    "\n",
    "First, let's see our current working directory. "
   ]
  },
  {
   "cell_type": "code",
   "execution_count": 5,
   "id": "e75da981-7425-48aa-ae85-c42583cd30dd",
   "metadata": {},
   "outputs": [
    {
     "name": "stdout",
     "output_type": "stream",
     "text": [
      "/home/exouser\n"
     ]
    }
   ],
   "source": [
    "pwd"
   ]
  },
  {
   "cell_type": "markdown",
   "id": "e45217f0-2b79-4ac5-a77b-fa4b0ddba1d1",
   "metadata": {},
   "source": [
    "Let's create a `project` directory for all of our work, at `/home/exouser/project` and link it to the shared data storage which should be located at `/mnt/ceph`. Be sure to change the `YOURUSERNAME` to the name that matches your directory name we saw earlier, i.e. your initial and last name."
   ]
  },
  {
   "cell_type": "code",
   "execution_count": 6,
   "id": "24f2bdd9-7f02-4961-9719-12766fb9052c",
   "metadata": {},
   "outputs": [],
   "source": [
    "ln -s /mnt/ceph/jwilliams /home/exouser/project"
   ]
  },
  {
   "cell_type": "markdown",
   "id": "a11382ae-14aa-45f6-99dd-ca03cc879614",
   "metadata": {},
   "source": [
    "Let's look at what we have created"
   ]
  },
  {
   "cell_type": "code",
   "execution_count": 7,
   "id": "7d7b6363-27b5-4f8b-b0f3-5455f018a7c1",
   "metadata": {},
   "outputs": [
    {
     "name": "stdout",
     "output_type": "stream",
     "text": [
      "total 56\n",
      "drwxr-xr-x 2 exouser exouser  4096 Nov 22 18:42 Desktop\n",
      "drwxr-xr-x 2 exouser exouser  4096 Nov 22 18:42 Documents\n",
      "drwxr-xr-x 2 exouser exouser  4096 Nov 22 18:42 Downloads\n",
      "drwxr-xr-x 2 exouser exouser  4096 Nov 22 18:42 Music\n",
      "drwxr-xr-x 2 exouser exouser  4096 Nov 22 18:42 Pictures\n",
      "drwxr-xr-x 2 exouser exouser  4096 Nov 22 18:42 Public\n",
      "-rw-rw-r-- 1 exouser exouser 13598 Dec  5 05:27 Setup_notebook.ipynb\n",
      "drwxr-xr-x 2 exouser exouser  4096 Nov 22 18:42 Templates\n",
      "drwxr-xr-x 2 exouser exouser  4096 Nov 22 18:42 Videos\n",
      "-rwxrwxr-x 1 exouser exouser   136 Nov 22 18:52 jstart.sh\n",
      "lrwxrwxrwx 1 exouser exouser    19 Dec  5 05:31 project -> /mnt/ceph/jwilliams\n",
      "-rwxrwxr-x 1 exouser exouser   195 Nov 26 14:28 tstart.sh\n"
     ]
    }
   ],
   "source": [
    "ls -l --color=never /home/exouser"
   ]
  },
  {
   "cell_type": "markdown",
   "id": "0ab2dc89-2ab5-49cc-a4df-292437622cec",
   "metadata": {},
   "source": [
    "You should see something that looks like\n",
    "\n",
    "`lrwxrwxrwx 1 exouser exouser    19 Dec  5 04:11 project -> /mnt/ceph/YOURUSERNAME`\n",
    "\n",
    "This means that when we work in the directory `/home/exouser/project` our results will really be saved to shared storage, which has a lot more room the storage on this virtual machine. There may be times when it will be better to work using the storage on the virtual machine since it may be a bit slower to read and write data to the shared storage. "
   ]
  },
  {
   "cell_type": "markdown",
   "id": "dbd278df-5abb-453c-b848-653996edae1d",
   "metadata": {},
   "source": [
    "## Connecting our dataset to our project folder"
   ]
  },
  {
   "cell_type": "markdown",
   "id": "c767cade-cf9c-4bcb-8e00-9ec31ae247ff",
   "metadata": {},
   "source": [
    "Now that we have a project folder, we can create another folder to get the sequence data, which should be located at `/mnt/ceph/chamecrista_fast5`. Let's create another link in our project folder to that dataset so that it's easier to use. The fast5 data is readonly so we have to add `sudo` to our commands. "
   ]
  },
  {
   "cell_type": "code",
   "execution_count": 8,
   "id": "e3926678-3fea-4c4d-84aa-116d9c9c8882",
   "metadata": {},
   "outputs": [],
   "source": [
    "sudo ln -s /mnt/ceph/chamecrista_fast5 /home/exouser/project/fast5_data"
   ]
  },
  {
   "cell_type": "markdown",
   "id": "0560371c-74aa-471f-953a-b0bedd7c95de",
   "metadata": {},
   "source": [
    "We can confirm that we have this new directory using the `ls` command"
   ]
  },
  {
   "cell_type": "code",
   "execution_count": 9,
   "id": "46cdf8a1-0bbd-48f3-8c5b-295118a8b8df",
   "metadata": {},
   "outputs": [
    {
     "name": "stdout",
     "output_type": "stream",
     "text": [
      "/home/exouser/project:\n",
      "fast5_data\n"
     ]
    }
   ],
   "source": [
    "sudo ls -R /home/exouser/project"
   ]
  },
  {
   "cell_type": "code",
   "execution_count": 10,
   "id": "bc5bcd7b-a864-48f6-92a4-13130d3a3550",
   "metadata": {},
   "outputs": [
    {
     "name": "stdout",
     "output_type": "stream",
     "text": [
      "0831_np_ac_small  0907ac_np_lb\t chamecrista_fast5\n",
      "0831ac_np_lb\t  0907acb_np_lb  seqag_lib\n"
     ]
    }
   ],
   "source": [
    "sudo ls /home/exouser/project/fast5_data"
   ]
  },
  {
   "cell_type": "markdown",
   "id": "d615ba72-e7ba-4f30-8fbe-d38a45602c20",
   "metadata": {},
   "source": [
    "There are five directories in the fast5_data folder. "
   ]
  },
  {
   "cell_type": "markdown",
   "id": "3c660bf0-9cf4-4bd3-94f8-3adc1494944e",
   "metadata": {},
   "source": [
    "- `seqag_lib` : Library of sequencing during the 2022 sequence-a-genome camp\n",
    "- `0831ac_np_lb`: Library of sequencing of nuclei prep A and C on 08/31/2022 \n",
    "- `0907ac_np_lb`: Library of sequencing of nuclei prep A and C on 09/07/2022 \n",
    "- `0907acb_np_lb`: Library of sequencing of nuclei prep A, B, and C on 09/07/2022 \n",
    "\n",
    "These files get big so we also have created a folder with just a small number of files that will be easier to work with while learning\n",
    "\n",
    "- `0831_np_ac_small`: A subset of of nuclei prep A and C on 08/31/2022 \n"
   ]
  },
  {
   "cell_type": "markdown",
   "id": "a2d43d72-7065-4704-a28c-7af8bacf9758",
   "metadata": {},
   "source": [
    "The diagram below is an attempt to summarize the connections we have now made between this computer and the JetStream2 share. \n",
    "\n",
    "\n",
    " <figure>\n",
    "<img src=\"https://github.com/JasonJWilliamsNY/genome_camp_2021/raw/main/jupyter_photos/data_diagram.jpg\" alt=\"Tacc JetStream Server\" width=\"500\"/> \n",
    "  <figcaption>JetStream2 Data Diagram</figcaption>\n",
    "</figure> \n",
    "\n",
    "\n",
    "\n",
    "\n",
    "Keep in mind, anytime we switch computers, you will need to make these connections. We will switch computers for example when we need to work on a machine with GPUs or with  You can either:\n",
    "\n",
    "1. Use symbolic links to make things easier\n",
    "\n",
    "```\n",
    "# Connect to your folder on the data share\n",
    "ln -s /mnt/ceph/YOURUSERNAME /home/exouser/project\n",
    "\n",
    "# Connect to Chamaecrista Fast5 data and a project folder in your home directory\n",
    "sudo ln -s /mnt/ceph/chamecrista_fast5 /home/exouser/project/fast5_data\n",
    "\n",
    "# Connect to other Jupyter Notebooks \n",
    "sudo ln -s /mnt/ceph/notebooks /home/exouser/project/notebooks\n",
    "\n",
    "# create as many links to places on the share as you need\n",
    "\n",
    "sudo ln -s /mnt/ceph/SOMEDIRECTORYONSHARE /home/exouser/SOMELOCATIONINYOURHOMEDIRECTORY\n",
    "\n",
    "```\n",
    "OR\n",
    "\n",
    "2. You can work directly on the data share\n",
    "\n",
    "```\n",
    "\n",
    "SOMECOMMAND /mnt/ceph/SOMEDIRECTORYONSHARE\n",
    "\n",
    "\n",
    "```"
   ]
  },
  {
   "cell_type": "markdown",
   "id": "c31ea596-6154-49e0-a5ba-c5323fb81e02",
   "metadata": {},
   "source": [
    "## Setting up iCommands and importing data (Optional)"
   ]
  },
  {
   "cell_type": "markdown",
   "id": "92202dc8-37ae-4334-8831-5ab28da34b1a",
   "metadata": {},
   "source": [
    "Currenly, we probably won't need to work with iCommands and CyVerse but here is that information if we need to in the future. \n",
    "\n",
    "Let's use [icommands](https://learning.cyverse.org/ds/icommands/#icommands-installation-for-linux) to move data from CyVerse. \n",
    "\n",
    "**Note** You will need to configure iCommands for your first use. \n",
    "\n",
    "1. Start a terminal - go the file menu, choose, New Launcher, and choose Terminal\n",
    "2. Type the following commands, and note the information you will need to enter:\n",
    "    - `bash` # formats to the bash shell\n",
    "    - `iinit`# starts iCommands configuration\n",
    "    - Enter the following information when prompted\n",
    "        - Enter the host name (DNS) of the server to connect to: **data.cyverse.org**\n",
    "        - Enter the port number: **1247**\n",
    "        - Enter your irods user name: **Your CyVerse Username**\n",
    "        - Enter your irods zone: **iplant**\n",
    "        - Enter your current iRODS password:**Enter your password, you will not see asterisks**\n",
    "    - `ils` # if pproperly configured, you should see the contents of your home directory\n",
    "        "
   ]
  }
 ],
 "metadata": {
  "kernelspec": {
   "display_name": "Bash",
   "language": "bash",
   "name": "bash"
  },
  "language_info": {
   "codemirror_mode": "shell",
   "file_extension": ".sh",
   "mimetype": "text/x-sh",
   "name": "bash"
  }
 },
 "nbformat": 4,
 "nbformat_minor": 5
}
