{
 "cells": [
  {
   "cell_type": "markdown",
   "metadata": {},
   "source": [
    "# Genome Assembly with Flye"
   ]
  },
  {
   "cell_type": "markdown",
   "metadata": {},
   "source": [
    "[flye](https://github.com/fenderglass/Flye) is \"a de novo assembler for single molecule sequencing reads, such as those produced by PacBio and Oxford Nanopore Technologies. It is designed for a wide range of datasets, from small bacterial projects to large mammalian-scale assemblies. The package represents a complete pipeline: it takes raw PacBio / ONT reads as input and outputs polished contigs.\""
   ]
  },
  {
   "cell_type": "markdown",
   "metadata": {},
   "source": [
    "## What you'll need to run this notebook\n",
    "\n",
    "1. You will need a set of sequencing reads produced previously (i.e. from running your `ReadQC-with-fastp` notebook). \n",
    "2. We recommend running this notebook with at least 32 CPUs and 64GB of RAM - genome assembly is usually computationally intensive. Some programs may take days even on a very powerful machine. "
   ]
  },
  {
   "cell_type": "markdown",
   "metadata": {},
   "source": [
    "### Watch the video introduction for a little bit of background on how this assembly tool works\n",
    "\n",
    "[Flye: Long Read Genome Assembly Tool](https://www.youtube.com/embed/DKSuYPFHAWU)"
   ]
  },
  {
   "cell_type": "markdown",
   "metadata": {},
   "source": [
    "## Installing flye"
   ]
  },
  {
   "cell_type": "markdown",
   "metadata": {},
   "source": [
    "As always, we will install the software; again we will use conda. \n",
    "\n",
    "**Important**: Make sure you execute each numbered step "
   ]
  },
  {
   "cell_type": "markdown",
   "metadata": {},
   "source": [
    "1. We will search for the tool we want to install\n",
    "\n",
    "We will use the `conda search` command and the channel (`-c`) flag to search [bioconda](https://bioconda.github.io/)"
   ]
  },
  {
   "cell_type": "code",
   "execution_count": null,
   "metadata": {},
   "outputs": [],
   "source": [
    "conda search flye -c bioconda"
   ]
  },
  {
   "cell_type": "markdown",
   "metadata": {},
   "source": [
    "2. Create a conda enviornment\n",
    "\n",
    "Conda uses something called \"enviornments\" which are essentially isolated configurations on our computer where we can included all the needed compatible tools and exlude other tools which are unnesessary or would have conflicts with our desired tool. We will use the `-y` option to install without prompting the user for input, the `--name` option to name the enviornment for the tool. We will enforce versioning (`tool==version`) so that we know what version of a tool was used to do an analysis should we wish to repeat the analysis. \n",
    "\n",
    "**Tip**: Use the latest version where possible, but if you get an error with dependancies, using a lower version may help. Some tools may never be installed successfully using conda, but we will face those when we have too. \n",
    "\n",
    "**Bonus tip**: In the installation command below we also specify the [build](https://medium.com/webgentle/what-is-the-software-build-all-you-need-to-know-4046b0e674bb) by adding an additional `=` after the version (2.9) and copying from the build column from our search results  above. In this case we are specifying to use tools compatible with Python 3.7 (a more up-to-date version than currently installed). We also add the `-c` command to tell conda that it can search for all the software [dependancies](https://askubuntu.com/questions/361741/what-are-dependencies) in the bioconda AND the conda-forge software repositories. \n"
   ]
  },
  {
   "cell_type": "code",
   "execution_count": null,
   "metadata": {},
   "outputs": [],
   "source": [
    "conda create -y --name flye flye==2.9.1=py39h6935b12_0 -c bioconda -c conda-forge"
   ]
  },
  {
   "cell_type": "markdown",
   "metadata": {},
   "source": [
    "3. We will use the `conda init` command so that conda can be configured for this shell"
   ]
  },
  {
   "cell_type": "code",
   "execution_count": null,
   "metadata": {},
   "outputs": [],
   "source": [
    "conda init"
   ]
  },
  {
   "cell_type": "markdown",
   "metadata": {},
   "source": [
    "4. **DON'T SKIP**: We need to restart the computer's [kernal](https://en.wikipedia.org/wiki/Kernel_(operating_system)). Go to the **Kernal** menu and choose **Restart Kernal**"
   ]
  },
  {
   "cell_type": "markdown",
   "metadata": {},
   "source": [
    "5. Finally, we can activate the conda enviornment (created with the name used for the environment). When you run the next cell it should return the name of the environment.  "
   ]
  },
  {
   "cell_type": "code",
   "execution_count": null,
   "metadata": {},
   "outputs": [],
   "source": [
    "conda activate flye"
   ]
  },
  {
   "cell_type": "markdown",
   "metadata": {
    "tags": []
   },
   "source": [
    "## Connecting to our project and dataset folders"
   ]
  },
  {
   "cell_type": "markdown",
   "metadata": {},
   "source": [
    "We have to check that this notebook is running in the expected directory, and that you have a project folder. When you run the following command, your working directory should be `/home/exouser`\n",
    "\n",
    "1. Check our working directory"
   ]
  },
  {
   "cell_type": "code",
   "execution_count": null,
   "metadata": {},
   "outputs": [],
   "source": [
    "pwd"
   ]
  },
  {
   "cell_type": "markdown",
   "metadata": {},
   "source": [
    "**(Optional)**: If the `pwd` command did not give you `/home/exouser` run the following command, otherwise **skip**. Please also keep in mind - you **should not** be running this notebook in `/mnt/ceph/notebooks`, so ask for help if you get this result."
   ]
  },
  {
   "cell_type": "code",
   "execution_count": null,
   "metadata": {},
   "outputs": [],
   "source": [
    "cd /home/exouser # only run this if needed"
   ]
  },
  {
   "cell_type": "markdown",
   "metadata": {},
   "source": [
    "2. Inspect the `project` folder. \n",
    "\n",
    "You should also have a project folder which is linked to your home folder on the shared drive. Running the following command should generate something like:\n",
    "\n",
    "`lrwxrwxrwx 1 exouser exouser 19 Dec 30 21:27 jwilliams -> /mnt/ceph/YOURUSERNAME`"
   ]
  },
  {
   "cell_type": "code",
   "execution_count": null,
   "metadata": {},
   "outputs": [],
   "source": [
    "ls -lh project --color=never"
   ]
  },
  {
   "cell_type": "markdown",
   "metadata": {},
   "source": [
    "**(Optional)**: If you don't have a `project` folder linked to your folder on the shared drive, run the command below. Remeber to change `YOURUSERNAME` to the name of your folder. "
   ]
  },
  {
   "cell_type": "code",
   "execution_count": null,
   "metadata": {},
   "outputs": [],
   "source": [
    "mkdir -p project && ln -s /mnt/ceph/YOURUSERNAME project # run only if needed, fix YOURUSERNAME"
   ]
  },
  {
   "cell_type": "markdown",
   "metadata": {},
   "source": [
    "3. Connect to and inspect the folder of corrected FASTQ reads. \n",
    "\n",
    "Let's also make sure the project folder has a link to the FASTQ reads we will use and also create a place for the results of your FastQC analysis. \n",
    "\n",
    "The next command will create a link in your project folder to a location on the shared drive where we have placed all of the Chamecrista FASTQ reads. "
   ]
  },
  {
   "cell_type": "code",
   "execution_count": null,
   "metadata": {},
   "outputs": [],
   "source": [
    "ln -s /mnt/ceph/chamecrista_corrected_fastq project/chamecrista_corrected_fastq"
   ]
  },
  {
   "cell_type": "markdown",
   "metadata": {},
   "source": [
    "# Copying data to a mounted drive\n",
    "\n",
    "Because this process is very intensive, we will actually copy data (our reads) from the remote shared drive to a \"local\" disk to minimize [latency](https://v2cloud.com/glossary/what-is-latency). This requires us to use a disk that will be mounted by an administrator to this virtual machine. The location of this disk might change so the administrator may need to change the command location we use in the example below. \n",
    "\n",
    "Check the disk is mounted, and see how much room is available. "
   ]
  },
  {
   "cell_type": "code",
   "execution_count": null,
   "metadata": {},
   "outputs": [],
   "source": [
    "df -h /media/volume/sdb/"
   ]
  },
  {
   "cell_type": "markdown",
   "metadata": {},
   "source": [
    "We should get an answer like\n",
    "```\n",
    "Filesystem      Size  Used Avail Use% Mounted on\n",
    "/dev/sdb        3.9T  726G  3.0T  20% /media/volume/sdb\n",
    "```\n",
    "\n",
    "Showing that the disk is avaulable and how much room is on the disk (in the above example 3.9 TB"
   ]
  },
  {
   "cell_type": "markdown",
   "metadata": {},
   "source": [
    "We will create some folders on that disk and copy our reads\n",
    "\n"
   ]
  },
  {
   "cell_type": "code",
   "execution_count": null,
   "metadata": {},
   "outputs": [],
   "source": [
    "mkdir -p /media/volume/sdb/flye_assembly/input &&\\\n",
    " cp project/chamecrista_corrected_fastq/chamecrista_corrected_called_reads.correctedReads.fasta.gz\\\n",
    " /media/volume/sdb/flye_assembly/input &&\\\n",
    " mkdir -p /media/volume/sdb/flye_assembly/output"
   ]
  },
  {
   "cell_type": "markdown",
   "metadata": {},
   "source": [
    "We can also have a `mounted_disk` shortcut (symbolic link) in our home directory"
   ]
  },
  {
   "cell_type": "code",
   "execution_count": null,
   "metadata": {},
   "outputs": [],
   "source": [
    "ln -s /media/volume/sdb/flye_assembly/ mounted_disk"
   ]
  },
  {
   "cell_type": "markdown",
   "metadata": {},
   "source": [
    "## Running flye"
   ]
  },
  {
   "cell_type": "markdown",
   "metadata": {},
   "source": [
    "Here we may as well run on the entire set of reads from your quality control step. \n",
    "\n",
    "**Tip**: When using commands or searching for files, the tab key will help you autocomplete (and help ensure the files and commands you think you have are actually accessible).\n",
    "\n"
   ]
  },
  {
   "cell_type": "markdown",
   "metadata": {},
   "source": [
    "## Questions to answer before running this software\n",
    "\n",
    "It's important you know these answers. You will likely do more than one assembly so that you can tweak the settings and make improvements. You may need to refer to your `fastp` output to answer these. \n",
    "\n",
    "1. What is the name of the file containing your cleaned reads\n",
    "2. How many reads total do you have in your input? \n",
    "3. How many nucleotides do you have in your input? \n",
    "4. What is the mean length of your reads?\n",
    "5. What percentage of reads are Q20 ([phred score](https://en.wikipedia.org/wiki/Phred_quality_score)) or above?\n",
    "6. What is your estimated coverage?\n",
    "\n",
    "To answer question #6 remember, coverage is how many nucleotides you have/the size (also in nucleotides) of the genome. For example, if you have 5 Gigabases (5GiB, 5,000,000,000 bases) and your genome is 150Mb, 150,000,000 you have ~ 33X coverage (33 times the genome size). "
   ]
  },
  {
   "cell_type": "markdown",
   "metadata": {},
   "source": [
    "### flye options"
   ]
  },
  {
   "cell_type": "markdown",
   "metadata": {},
   "source": [
    "When we call the `flye` program here are some options we are likely to use (see the [flye](https://github.com/fenderglass/Flye/blob/flye/docs/USAGE.md) documentation for all options):\n",
    "\n",
    "- `--nano-raw` [file]: The input reads when they were produced on a nanopore sequencing and assuming relatively low quality (higher error) reads\n",
    "- `--nano-corr` [file]: The input reads when they were produced on a nanopore sequencing and assuming higher quality (lower error) reads\n",
    "- `--genome-size` [size]: The estimated genome size in millions (m) or billions (g) of nucleotides (e.g. 5m or 2.6g)\n",
    "- `--out-dir` [path]: The location to save outputs to\n",
    "- `--threads` [int]: How many CPUs to use where int= some integer (e.g. 32)\n",
    "-  `--iterations` [int]: Flye has a step called polishing where it will go over the resulting assmbly and try and make corrections, this is intensive and will only help so much so don't use too high a number. "
   ]
  },
  {
   "cell_type": "markdown",
   "metadata": {},
   "source": [
    "### Example 1 (optional) - running flye on `chamecrista_corrected_called_reads.correctedReads.fasta.gz`"
   ]
  },
  {
   "cell_type": "markdown",
   "metadata": {},
   "source": [
    "The file `chamecrista_corrected_called_reads.correctedReads.fasta.gz` was generated in advance using the raw reads  cleaned and flitered with `fastp` and corrected with `canu`. \n",
    "\n",
    "The following command is a good example to show you how to run `flye`. You can modify it to run with your own input file. "
   ]
  },
  {
   "cell_type": "markdown",
   "metadata": {},
   "source": [
    "We run the command below (this will take **several** hours)\n",
    "\n",
    "**IMPORTANT - how to know when this is finnished**: The [\\*] you see next to a cell indicates that a program is running. If you see this, the program is still running (even though a given stage of the program may say \"DONE\"). \n",
    "\n",
    "Flye is done when you see an \"Assembly Statistics\" statement like the below\n",
    "\n",
    "[2021-12-16 05:57:42] INFO: Assembly statistics:\n",
    "\n",
    "\tTotal length:\t142913378\n",
    "\tFragments:\t196\n",
    "\tFragments N50:\t5474149\n",
    "\tLargest frg:\t8701774\n",
    "\tScaffolds:\t0\n",
    "\tMean coverage:\t31\n",
    "    \n",
    "[2021-12-16 05:57:42] INFO: Final assembly: /home/gene/flye_example_assembly/assembly.fasta\n"
   ]
  },
  {
   "cell_type": "code",
   "execution_count": null,
   "metadata": {},
   "outputs": [],
   "source": [
    "flye  --nano-corr /media/volume/sdb/flye_assembly/input/chamecrista_corrected_called_reads.correctedReads.fasta.gz\\\n",
    "      --out-dir /media/volume/sdb/flye_assembly/output_unknown_size\\\n",
    "      --threads 64\\\n",
    "      --iterations 2"
   ]
  },
  {
   "cell_type": "markdown",
   "metadata": {
    "tags": []
   },
   "source": [
    "3. In your Jupyter file browser, navigate to the home folder (See the home icon) and see your results folder. \n",
    "\n",
    "### Results\n",
    "\n",
    "Like most assemblers, at each step `flye` will generate several intermediate outputs. In the output folder, you will see a `assembly.fasta`. Some interesting results from the above report include the length of the genome assembled and the number of contigs (fewer is better) and the [N50](https://www.metagenomics.wiki/pdf/definition/assembly/n50). Can you tweak the assembly to get fewer fragments ([contigs](https://en.wikipedia.org/wiki/Contig)) or higher N50?\n",
    "\n",
    "The assembly you generate can now be evaluated in the next stage where we will use `quast` to generate metrics we can use to estimate the quality of this assembly.  "
   ]
  },
  {
   "cell_type": "markdown",
   "metadata": {},
   "source": [
    "## Challenge - Use flye to assemble your reads"
   ]
  },
  {
   "cell_type": "markdown",
   "metadata": {},
   "source": [
    "Now, it's up to you to use  `flye` to generate your own genome assembly using the reads generated by fastp. \n",
    "\n",
    "\n",
    "### What to do\n",
    "\n",
    "1. Use the `mkdir` command to make a unique output directory to save your results (e.g. flye_assembly_1, flye_assembly_2). Make a new folder each time you do a new assembly. "
   ]
  },
  {
   "cell_type": "code",
   "execution_count": null,
   "metadata": {},
   "outputs": [],
   "source": [
    "mkdir "
   ]
  },
  {
   "cell_type": "markdown",
   "metadata": {},
   "source": [
    "2. Complete the command below to try an assembly using the same parameters as the example above. You will have to adjust the file name (`--nano-raw`) to match your file name, specify the output directory (`--out-dir `), and adjust the threads to the number of CPUs you are using (`--threads`); CPU number was specified when you launched the application in the Discovery Environment. \n",
    "\n",
    "**Note about completing the cells below**\n",
    "- Enter your options after the flag (e.g. `-o`) and before the `\\`\n",
    "- Leave a space between what you write and the `\\`\n",
    "- Look closely how the working commands in the example are written if you have difficulties\n",
    "- Look closely for errors (unable to find file,  unable to write file, etc.)\n",
    "- Ask for help if you can't get something to work"
   ]
  },
  {
   "cell_type": "code",
   "execution_count": null,
   "metadata": {},
   "outputs": [],
   "source": [
    "flye  --nano-raw\\ \n",
    "      --out-dir \\\n",
    "      --threads \\\n",
    "      --iterations 2"
   ]
  },
  {
   "cell_type": "markdown",
   "metadata": {},
   "source": [
    "3. Things to change. There are many things you can change which may improve (or worsen) the quality of your assembly. For now, it does not make sense to try too many things, but we suggest making at least one change so that when you evaluate your assembly in the next notebook, you already have some things to look at. \n",
    "\n",
    "\n"
   ]
  },
  {
   "cell_type": "markdown",
   "metadata": {},
   "source": [
    "## Document your work"
   ]
  },
  {
   "cell_type": "markdown",
   "metadata": {},
   "source": [
    "We need to keep good track on what changes were made/how a file was produced so that we can fully document our work. In this exercise, it will be critical to know your settings so we can compare results across everyone who does this experiment. You will also be able to go back and reproduce your work if needed. "
   ]
  }
 ],
 "metadata": {
  "kernelspec": {
   "display_name": "Bash",
   "language": "bash",
   "name": "bash"
  },
  "language_info": {
   "codemirror_mode": "shell",
   "file_extension": ".sh",
   "mimetype": "text/x-sh",
   "name": "bash"
  }
 },
 "nbformat": 4,
 "nbformat_minor": 5
}
