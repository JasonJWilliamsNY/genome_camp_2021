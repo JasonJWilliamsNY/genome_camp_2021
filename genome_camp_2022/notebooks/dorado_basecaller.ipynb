{
 "cells": [
  {
   "cell_type": "markdown",
   "id": "2cf88f70-85e2-487f-867b-a43ad17df5d8",
   "metadata": {
    "tags": []
   },
   "source": [
    "# Basecalling with Dorado"
   ]
  },
  {
   "cell_type": "markdown",
   "id": "465ca1ac-fbac-41aa-9ff3-36f688c1df5d",
   "metadata": {},
   "source": [
    "As of December 2022, [Dorado](https://github.com/nanoporetech/dorado) is software we can use to convert the Nanopore [fast5](https://medium.com/@shiansu/a-look-at-the-nanopore-fast5-format-f711999e2ff6) files into the [fastq](https://en.wikipedia.org/wiki/FASTQ_format) format. Nanopore will be making changes to its file formats in the near future, but for now, this is how we will make the conversion. \n",
    "\n",
    "Recall, in nanopore sequencing, the movement of DNA through a nanopore results in an electrical signal which encodes the DNA sequence. This basecalling step is the translation of the the electical signal into DNA bases. This process is imperfect, and as we will learn, each base has a probability of being incorrectly determined. \n",
    "\n",
    "<figure>\n",
    "    <img src=\"/media/cc0-images/elephant-660-480.jpg\"\n",
    "         alt=\"DNA passing through a nanopore and generating an electrical signal\">\n",
    "    <figcaption>DNA passing through a nanopore and generating an electrical signal</figcaption>\n",
    "</figure>\n",
    "\n",
    "\n",
    "**Important** \n",
    "\n",
    "This software will work with a machine that has [GPU](https://en.wikipedia.org/wiki/Graphics_processing_unit) processers. These processors can do the math needed very quickly. You will be given a machine that is equipped with GPUs so don't try to run this notebook on another type of computer. "
   ]
  },
  {
   "cell_type": "markdown",
   "id": "da53f812-3b51-4e5b-af63-e2743cb8ab25",
   "metadata": {},
   "source": [
    "## Preparing the virtual machine"
   ]
  },
  {
   "cell_type": "markdown",
   "id": "03ed9ca0-fb90-4c36-b83c-c9eb1f4cdddf",
   "metadata": {},
   "source": [
    "There are some commands we can use to check the machine we are using. We can see what GPUs we have access to (assuming this is a machine running NVIDIA GPUs). "
   ]
  },
  {
   "cell_type": "markdown",
   "id": "cf453d8b-edf1-479e-9aa9-e567b6ac89de",
   "metadata": {},
   "source": [
    "First, we can load updated [drivers](https://en.wikipedia.org/wiki/Device_driver)"
   ]
  },
  {
   "cell_type": "code",
   "execution_count": null,
   "id": "8d778966-5453-4ef1-a71b-ddc04c6e63c6",
   "metadata": {},
   "outputs": [],
   "source": [
    "module load nvhpc/22.3/nvhpc"
   ]
  },
  {
   "cell_type": "code",
   "execution_count": null,
   "id": "0a48ad1e-80a1-4e3c-a1f8-6661eab0eff8",
   "metadata": {},
   "outputs": [],
   "source": [
    "module load nvhpc/22.3/nvhpc-nompi"
   ]
  },
  {
   "cell_type": "markdown",
   "id": "96e9b0e6-7e54-477a-ae7d-dff53a0807c4",
   "metadata": {},
   "source": [
    "This next commnd should confirm we have a GPU to run the software"
   ]
  },
  {
   "cell_type": "code",
   "execution_count": null,
   "id": "92a383e9-e130-4139-bf5b-dad56a8f7bc8",
   "metadata": {},
   "outputs": [],
   "source": [
    " nvidia-smi -L"
   ]
  },
  {
   "cell_type": "markdown",
   "id": "606d50ff-dc9f-430b-8800-0caa331ecbca",
   "metadata": {},
   "source": [
    "We can see the software version for this GPU"
   ]
  },
  {
   "cell_type": "code",
   "execution_count": null,
   "id": "382b8fe0-b50c-45cf-81dc-6531bab09ad8",
   "metadata": {},
   "outputs": [],
   "source": [
    "nvcc --version"
   ]
  },
  {
   "cell_type": "markdown",
   "id": "fe7c596c-e23f-4872-ba8c-bcdebe4d7e97",
   "metadata": {},
   "source": [
    "The version of Dorado we use should o be compatible with\n",
    "`Cuda compilation tools, release 11.6, V11.6.112`\n",
    "So that is the output you should get from the command above. "
   ]
  },
  {
   "cell_type": "markdown",
   "id": "6a1f3185-15f9-4f8f-bccd-0045d1587b89",
   "metadata": {},
   "source": [
    "## Connecting to the data share and configuring the machine"
   ]
  },
  {
   "cell_type": "markdown",
   "id": "95c81a29-079d-4485-b190-642717e12dc4",
   "metadata": {},
   "source": [
    "If you have not used this virtual machine before you will need to connect to your data share. \n",
    "\n",
    "Recall, we recommended creating a creating a `project` directory for all of our work, at `/home/exouser/project` and link it to the shared data storage which should be located at `/mnt/ceph`. Be sure to change the `YOURUSERNAME` to the name that matches your directory name we saw earlier, i.e. your initial and last name."
   ]
  },
  {
   "cell_type": "code",
   "execution_count": null,
   "id": "730a069e-80cb-48db-a181-582666ff9d04",
   "metadata": {},
   "outputs": [],
   "source": [
    "ln -s /mnt/ceph/YOURUSERNAME /home/exouser/project"
   ]
  },
  {
   "cell_type": "markdown",
   "id": "699f3fdc-4b7e-4681-9de5-cedcc41ca8d0",
   "metadata": {},
   "source": [
    "We will also need to be able to read from the small tutorial data which is at `/mnt/ceph/chamecrista_fast5/0831_np_ac_small`. Let's create a link so we can easily read in this data. "
   ]
  },
  {
   "cell_type": "code",
   "execution_count": null,
   "id": "cbe73978-6264-4d44-bef6-478a32563bed",
   "metadata": {},
   "outputs": [],
   "source": [
    "sudo ln -s /mnt/ceph/chamecrista_fast5/0831_np_ac_small /home/exouser/project/fast5_small"
   ]
  },
  {
   "cell_type": "markdown",
   "id": "d7c587e5-60ed-4b14-b352-5dae105a569a",
   "metadata": {},
   "source": [
    "Let's check on what we have"
   ]
  },
  {
   "cell_type": "code",
   "execution_count": null,
   "id": "0f8c3eee-f4af-4a5f-9ae2-55715e9544c6",
   "metadata": {},
   "outputs": [],
   "source": [
    "sudo ls -R /home/exouser/project/fast5_small"
   ]
  },
  {
   "cell_type": "markdown",
   "id": "42c02ba8-c068-443d-96eb-3acccd69bbc0",
   "metadata": {},
   "source": [
    "You should get an output showing 11 fast5 files that we can work with:\n",
    "\n",
    "```\n",
    "/home/exouser/project/fast5_small:\n",
    "FAU30260_pass_3910fb5d_0.fast5\t FAU30260_pass_3910fb5d_5.fast5\n",
    "FAU30260_pass_3910fb5d_1.fast5\t FAU30260_pass_3910fb5d_6.fast5\n",
    "FAU30260_pass_3910fb5d_10.fast5  FAU30260_pass_3910fb5d_7.fast5\n",
    "FAU30260_pass_3910fb5d_2.fast5\t FAU30260_pass_3910fb5d_8.fast5\n",
    "FAU30260_pass_3910fb5d_3.fast5\t FAU30260_pass_3910fb5d_9.fast5\n",
    "FAU30260_pass_3910fb5d_4.fast5\n",
    "```"
   ]
  },
  {
   "cell_type": "markdown",
   "id": "bc5fa8ee-e37b-4f8c-af9c-91df1475dcb0",
   "metadata": {},
   "source": [
    "Let's create a folder to hold the rest of our tutorial outputs inclding the fastq files we will hopefully produce.  "
   ]
  },
  {
   "cell_type": "code",
   "execution_count": null,
   "id": "a33b6ed2-9769-4269-83cd-cdc445a96fab",
   "metadata": {},
   "outputs": [],
   "source": [
    "sudo mkdir -p /home/exouser/project/tutorial/fastq_output"
   ]
  },
  {
   "cell_type": "markdown",
   "id": "76379103-c0ec-44da-9caf-2d05149e4031",
   "metadata": {},
   "source": [
    "Let's check what we have made - the `-p` option should have made both the `tutorial` and the `fastq_output` directory. "
   ]
  },
  {
   "cell_type": "code",
   "execution_count": null,
   "id": "4d7ecfa2-6d3c-4b7c-8831-9230b32fbcbe",
   "metadata": {},
   "outputs": [],
   "source": [
    "sudo ls -R /home/exouser/project/"
   ]
  },
  {
   "cell_type": "markdown",
   "id": "f0f295e8-1cbb-4d7e-988d-5a00aa2d3438",
   "metadata": {},
   "source": [
    "Finally, let's make permissions on these folder permissve so we don't need to constantly use sudo."
   ]
  },
  {
   "cell_type": "code",
   "execution_count": null,
   "id": "482b68f0-ca74-4138-9c6f-e6cd283ca311",
   "metadata": {},
   "outputs": [],
   "source": [
    "sudo chmod -R 777 project\n",
    "sudo chmod -R 777 project/tutorial\n",
    "sudo chmod -R 777 project/tutorial/fastq_output"
   ]
  },
  {
   "cell_type": "markdown",
   "id": "f944d62b-4d7e-4025-bcf8-a8a5cf1eee3d",
   "metadata": {},
   "source": [
    "## Download the Dorado software"
   ]
  },
  {
   "cell_type": "markdown",
   "id": "0d2f5baf-bb82-4a95-a811-83f1f588fbc6",
   "metadata": {},
   "source": [
    "We will have to install dorado following the instructions on their [GitHub](https://github.com/nanoporetech/dorado) site. We will use `wget` to dowload the software. But let's make a place for it. \n",
    "\n",
    "*Note*: The file extension `.tar.gz` is often seen when we have data that is compressed or when there is a collection of software. Data we usually won't need to decompress to use, but software (i.e. a program) often will need to be decompressed. "
   ]
  },
  {
   "cell_type": "code",
   "execution_count": null,
   "id": "1d676f3e-db12-423e-a146-7cd702bfd43b",
   "metadata": {},
   "outputs": [],
   "source": [
    "mkdir -p project/software"
   ]
  },
  {
   "cell_type": "code",
   "execution_count": null,
   "id": "4a126074-d7ca-40ac-b7de-ed20806667b9",
   "metadata": {},
   "outputs": [],
   "source": [
    "wget https://cdn.oxfordnanoportal.com/software/analysis/dorado-0.1.0-linux-x64.tar.gz -O project/software/dorado-0.1.0-linux-x64.tar.gz"
   ]
  },
  {
   "cell_type": "markdown",
   "id": "28bc5052-1430-4a32-ba21-1ae75078ddab",
   "metadata": {},
   "source": [
    "Let's move to this new directory so we can decompress the downloaded [tar](https://en.wikipedia.org/wiki/Tar_(computing)) file. "
   ]
  },
  {
   "cell_type": "code",
   "execution_count": null,
   "id": "d3e653bf-948f-4b2a-b692-709557d19266",
   "metadata": {},
   "outputs": [],
   "source": [
    "cd ~/project/software && ls"
   ]
  },
  {
   "cell_type": "markdown",
   "id": "42c62084-2aed-44b7-87ed-84f8901fcdbf",
   "metadata": {},
   "source": [
    "We need to decompress the file before using the software inside. "
   ]
  },
  {
   "cell_type": "code",
   "execution_count": null,
   "id": "7a3ae609-4bcc-44c6-b0cb-f50a89db0c1f",
   "metadata": {},
   "outputs": [],
   "source": [
    "tar -xvf dorado-0.1.0-linux-x64.tar.gz "
   ]
  },
  {
   "cell_type": "markdown",
   "id": "ff5dfd4f-9b8e-46c5-b35f-6db07f88cb01",
   "metadata": {},
   "source": [
    "The actual software is now in `/home/exouser/project/software/dorado-0.1.0+4b0e9a6-Linux/bin`"
   ]
  },
  {
   "cell_type": "markdown",
   "id": "8f5bd1c0-4269-4279-8ada-e3326938a289",
   "metadata": {},
   "source": [
    "Let's make the name of the directory a bit easier to work with"
   ]
  },
  {
   "cell_type": "code",
   "execution_count": null,
   "id": "e2c6efc7-55ee-4b5a-b2ab-f38381e98318",
   "metadata": {},
   "outputs": [],
   "source": [
    "mv /home/exouser/project/software/dorado-0.1.0+4b0e9a6-Linux /home/exouser/project/software/dorado-0.1.0"
   ]
  },
  {
   "cell_type": "markdown",
   "id": "8ed27d67-12ae-4f4b-ace5-a05d87652cdc",
   "metadata": {},
   "source": [
    "We need to give permissions so we can access it"
   ]
  },
  {
   "cell_type": "code",
   "execution_count": null,
   "id": "550fb1a2-d686-4762-92af-78fc65c66807",
   "metadata": {},
   "outputs": [],
   "source": [
    "sudo chmod -R 777 /home/exouser/project/software/dorado-0.1.0/bin"
   ]
  },
  {
   "cell_type": "markdown",
   "id": "131c9f7a-5c5f-417f-998a-5510aa4cef0c",
   "metadata": {},
   "source": [
    "we can see the file with `ls`"
   ]
  },
  {
   "cell_type": "code",
   "execution_count": null,
   "id": "7bd133e9-3a67-4555-8ce2-8c9a9217d3cc",
   "metadata": {},
   "outputs": [],
   "source": [
    "ls /home/exouser/project/software/dorado-0.1.0/bin"
   ]
  },
  {
   "cell_type": "markdown",
   "id": "afe72e40-8e81-4124-b002-7607a87db789",
   "metadata": {},
   "source": [
    "We can add this to the computer's [PATH](http://www.linfo.org/path_env_var.html)"
   ]
  },
  {
   "cell_type": "code",
   "execution_count": null,
   "id": "c7481b15-d2ff-47e2-8799-4ef94542e9f4",
   "metadata": {},
   "outputs": [],
   "source": [
    "PATH=$PATH:/home/exouser/project/software/dorado-0.1.0/bin"
   ]
  },
  {
   "cell_type": "markdown",
   "id": "2e9a1391-6d03-4d7e-a271-f00e46691211",
   "metadata": {},
   "source": [
    "This command fixes a known issue with the software. Won't be explained, but just trust that it works for now. "
   ]
  },
  {
   "cell_type": "code",
   "execution_count": null,
   "id": "785c0aa0-df53-4f0b-9e03-90510165afb2",
   "metadata": {},
   "outputs": [],
   "source": [
    "DIR=/home/exouser/project/software/dorado-0.1.0/lib/libcublasLt-17d45838.so.11\n",
    "LD_LIBRARY_PATH=${LD_LIBRARY_PATH/${LD_LIBRARY_PATH/#$DIR:*/$DIR:}/}${LD_LIBRARY_PATH/${LD_LIBRARY_PATH/*:$DIR*/:$DIR}/}"
   ]
  },
  {
   "cell_type": "markdown",
   "id": "c1f288da-8090-409b-acbf-c5165ccb1dbb",
   "metadata": {},
   "source": [
    "We can now run `dorado`"
   ]
  },
  {
   "cell_type": "code",
   "execution_count": null,
   "id": "f13087f5-350d-46a1-9828-58f39978673c",
   "metadata": {},
   "outputs": [],
   "source": [
    "#Run dorado command\n",
    "dorado"
   ]
  },
  {
   "cell_type": "markdown",
   "id": "34df3c06-ebe7-429d-9dd5-7850fa635ad0",
   "metadata": {},
   "source": [
    "You should get an error message is useful because it tells us what commands we can run:\n",
    "\n",
    "```\n",
    "Usage: dorado [options] subcommand\n",
    "\n",
    "Positional arguments:\n",
    "basecaller\n",
    "download\n",
    "duplex\n",
    "\n",
    "Optional arguments:\n",
    "-h --help               shows help message and exits\n",
    "-v --version            prints version information and exits\n",
    "```"
   ]
  },
  {
   "cell_type": "markdown",
   "id": "c7af40c2-77d0-4d73-be11-a75b7e16eb86",
   "metadata": {},
   "source": [
    "##  Use Dorado to generate basecalls "
   ]
  },
  {
   "cell_type": "markdown",
   "id": "ca90908d-3674-4d95-b4e7-fff541638039",
   "metadata": {
    "tags": []
   },
   "source": [
    "Following instruction on the software [GitHub page](https://github.com/nanoporetech/dorado), we will download a model. [models](https://learn.microsoft.com/en-us/windows/ai/windows-ml/what-is-a-machine-learning-model) that tells it how to decode the information stored in the fast5 files.\n",
    "\n",
    "When we preformed DNA sequencing, we knew some information about the flowcell and protocols we were using:\n",
    "\n",
    "1. We sequenced DNA (not RNA) data\n",
    "2. We used a flow cell that was version 10.4.1\n",
    "3. The speed at which bases were read was 260 bases per second.\n",
    "\n",
    "We could therefore choose (according to the [GitHub page](https://github.com/nanoporetech/dorado) instructions): \n",
    "\n",
    "- `dna_r10.4.1_e8.2_260bps_fast@v4.0.0`\n",
    "- `dna_r10.4.1_e8.2_260bps_hac@v4.0.0`\n",
    "- `dna_r10.4.1_e8.2_260bps_sup@v4.0.0`\n",
    "\n",
    "We can also choose which version of the model - fast, high accuracy, or super high accuracy\n",
    "\n",
    "For our test data we can choose:\n",
    "`dna_r10.4.1_e8.2_260bps_sup@v4.0.0\n",
    "`"
   ]
  },
  {
   "cell_type": "markdown",
   "id": "59cd2c99-683e-4db8-8b91-bbc1dde1a052",
   "metadata": {},
   "source": [
    "We can make a directory for the model and then download the model"
   ]
  },
  {
   "cell_type": "code",
   "execution_count": null,
   "id": "d1b8ec6c-a7c3-4759-ab59-b30cd588c9b1",
   "metadata": {},
   "outputs": [],
   "source": [
    "mkdir -p /home/exouser/project/software/dorado-0.1.0/models"
   ]
  },
  {
   "cell_type": "code",
   "execution_count": null,
   "id": "152d2b35-f7b7-41df-886c-b253470bcf0e",
   "metadata": {},
   "outputs": [],
   "source": [
    "dorado download --model dna_r10.4.1_e8.2_260bps_sup@v4.0.0\\\n",
    " --directory /home/exouser/project/software/dorado-0.1.0/models"
   ]
  },
  {
   "cell_type": "markdown",
   "id": "ea7ccee2-1ed5-44f4-b39e-2843a34e2495",
   "metadata": {},
   "source": [
    "Recall, our reads in **fast5** format are located at:"
   ]
  },
  {
   "cell_type": "code",
   "execution_count": null,
   "id": "2f38a51b-1758-42f7-8ad5-c99a7cf6b1b9",
   "metadata": {},
   "outputs": [],
   "source": [
    "ls /home/exouser/project/fast5_small"
   ]
  },
  {
   "cell_type": "markdown",
   "id": "de23ea97-8753-4bfa-bdec-6705edc8c9e0",
   "metadata": {},
   "source": [
    "Using this information, we will use the download model and the basecaller command to take all of the reads in the **fast5** files and translate them into the **fastq** format. "
   ]
  },
  {
   "cell_type": "code",
   "execution_count": null,
   "id": "1c4fe14e-9765-413a-9242-64abc7421fc8",
   "metadata": {},
   "outputs": [],
   "source": [
    "dorado basecaller --emit-fastq\\\n",
    " /home/exouser/project/software/dorado-0.1.0/models/dna_r10.4.1_e8.2_260bps_sup@v4.0.0\\\n",
    " /home/exouser/project/fast5_small\\\n",
    " > /home/exouser/project/tutorial/fastq_output/called_reads.fastq "
   ]
  },
  {
   "cell_type": "markdown",
   "id": "0f8faae3-80d7-4cc7-a718-904b64c5710b",
   "metadata": {},
   "source": [
    "We can now see the output fastq file here:"
   ]
  },
  {
   "cell_type": "code",
   "execution_count": null,
   "id": "7574888b-518c-4d94-91bd-2ecb487c30ec",
   "metadata": {},
   "outputs": [],
   "source": [
    "ls /home/exouser/project/tutorial/fastq_output/"
   ]
  },
  {
   "cell_type": "markdown",
   "id": "311853cb-372e-40d2-ac9b-56c74e2ff94a",
   "metadata": {},
   "source": [
    "Using the `head` command gives the first fastq record in the file"
   ]
  },
  {
   "cell_type": "code",
   "execution_count": null,
   "id": "8a66b49b-433b-43d6-9fd0-8429a43bce2f",
   "metadata": {},
   "outputs": [],
   "source": [
    "head -n 4 /home/exouser/project/tutorial/fastq_output/called_reads.fastq "
   ]
  }
 ],
 "metadata": {
  "kernelspec": {
   "display_name": "Bash",
   "language": "bash",
   "name": "bash"
  },
  "language_info": {
   "codemirror_mode": "shell",
   "file_extension": ".sh",
   "mimetype": "text/x-sh",
   "name": "bash"
  }
 },
 "nbformat": 4,
 "nbformat_minor": 5
}
