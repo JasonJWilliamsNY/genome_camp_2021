{
 "cells": [
  {
   "cell_type": "markdown",
   "id": "098c8755",
   "metadata": {},
   "source": [
    "# Assessing Data Quality"
   ]
  },
  {
   "cell_type": "markdown",
   "id": "008bf512",
   "metadata": {},
   "source": [
    "When data from DNA sequencing is produced, it is stored in a file format called FastQ. This file contains information not just about the DNA sequence itself (e.g. the nucleotide sequence) but also contains information about the quality of the DNA sequence. Sequencing DNA is not an error-free process. Like any measurement, there is a potential for error. In generating millions of bases of DNA sequence, tens or or hundreds of thousands of those bases may be mistaken. Fortunately, we can estimate the error; we do this using something called a [Phred](https://en.wikipedia.org/wiki/Phred_quality_score)\n",
    "Now that we have the sequence data we want to be able to determine the quality of the sequencing reads. \n",
    "\n",
    "\n"
   ]
  },
  {
   "cell_type": "markdown",
   "id": "9aaa51f0",
   "metadata": {},
   "source": [
    "## FastQ file format"
   ]
  },
  {
   "cell_type": "markdown",
   "id": "df678032",
   "metadata": {},
   "source": [
    "A fastQ file (file extension .fastq) is a file that contains perhaps hundreds of thousands or millions of individual sequence reads. Each sequence read is represented in 4 lines of the file. Here is an example:\n",
    "\n",
    "```bash\n",
    "@HWI-ST330:304:H045HADXX:1:1101:1111:61397\n",
    "CACTTGTAAGGGCAGGCCCCCTTCACCCTCCCGCTCCTGGGGGANNNNNNNNNNANNNCGAGGCCCTGGGGTAGAGGGNNNNNNNNNNNNNNGATCTTGG\n",
    "+\n",
    "@?@DDDDDDHHH?GH:?FCBGGB@C?DBEGIIIIAEF;FCGGI#########################################################\n",
    "```\n",
    "\n",
    "Line |Description \n",
    "-----|----- \n",
    "1|Always begins with ‘@’ and then information about the read (e.g. it’s direction, the machine it was sequenced on, etc.)\n",
    "2|The actual DNA sequence\n",
    "3|Always begins with a ‘+’ and sometimes the same info in line 1\n",
    "4|Has a string of characters which represent the quality scores; must have same number of characters as line 2"
   ]
  },
  {
   "cell_type": "markdown",
   "id": "e114dd43",
   "metadata": {},
   "source": [
    "## Phred score in detail\n",
    "A Phred score is a measure of uncertainty and error. The value of a [Phred](https://en.wikipedia.org/wiki/Phred_quality_score) score is an indication of how likely it is that a base reported in a sequencing read is in error. Here is the table describing the Phred score values:\n",
    "\n",
    "Phred Quality Score|Probability of incorrect base call|Base call accuracy\n",
    "-------------------|----------------------------------|------------------\n",
    "10|1 in 10 |90%\n",
    "20|1 in 100|99%\n",
    "30|1 in 1000|99.9%\n",
    "40|1 in 10,000|99.99%\n",
    "50|1 in 100,000|99.999%\n",
    "60|1 in 1,000,000|99.9999%"
   ]
  },
  {
   "cell_type": "markdown",
   "id": "0528a8fc",
   "metadata": {},
   "source": [
    "## Running and interpreting FastQC\n",
    "\n",
    "[FastQC](https://www.bioinformatics.babraham.ac.uk/projects/fastqc/) is one of several programs we can use to determine the quality of DNA sequence. A single fastQ file may have millions of individual sequencing reads, each with its own quality information (Phred core). The FastQC report generates graphs and descriptive statistics that allow us to get a sense of the overall quality of a file of sequencing data. Once we have that information, we can use it later on to trim and/or filter out low quality data.\n",
    "\n",
    "**Per base sequence quality**\n",
    "This report shows the average quality score across the length of all reads. Poor quality at the beginning or end of the reads may suggest settings for trimming.\n",
    "\n",
    "**Per sequence quality scores**\n",
    "This report indicates how individual reads of a given quality score are distributed in your sequence file. Ideally, most reads will have a high average quality score. Populations of lower average-scored reads can be removed by downstream filtering.\n",
    "\n",
    "**Adapter Content**\n",
    "This report indicates the presence of sequencing adapters. If adapters are detected, you will need to remove them in downstream cleaning.\n"
   ]
  },
  {
   "cell_type": "markdown",
   "id": "b5afbef7-04fb-45ff-a400-ff8e1401cd7b",
   "metadata": {},
   "source": [
    "## Installing FastQC"
   ]
  },
  {
   "cell_type": "markdown",
   "id": "c9c03e9d-8a85-4e44-a25b-5eeaaf0c17bc",
   "metadata": {},
   "source": [
    "We will install fastqc using the [conda](https://docs.conda.io/en/latest/) package manager. We are doing this in the Jupyter notebook but this and all other commands will work just about identically on any linux terminal/machine. \n",
    "\n",
    "### Important!!! - complete each of the numbered steps"
   ]
  },
  {
   "cell_type": "markdown",
   "id": "a6c115d8-f379-4020-8b69-8823ae59ed36",
   "metadata": {},
   "source": [
    "1. We will search for the tool we want to install\n",
    "\n",
    "We will use the `conda search` command and the channel (`-c`) flag to search [bioconda](https://bioconda.github.io/)"
   ]
  },
  {
   "cell_type": "code",
   "execution_count": 1,
   "id": "04ad202c-9425-4c70-9909-a826320a5fe0",
   "metadata": {},
   "outputs": [
    {
     "name": "stdout",
     "output_type": "stream",
     "text": [
      "Loading channels: done\n",
      "# Name                       Version           Build  Channel             \n",
      "fastqc                        0.10.1               0  bioconda            \n",
      "fastqc                        0.10.1               1  bioconda            \n",
      "fastqc                        0.11.2               1  bioconda            \n",
      "fastqc                        0.11.2      pl5.22.0_0  bioconda            \n",
      "fastqc                        0.11.3               0  bioconda            \n",
      "fastqc                        0.11.3               1  bioconda            \n",
      "fastqc                        0.11.4               0  bioconda            \n",
      "fastqc                        0.11.4               1  bioconda            \n",
      "fastqc                        0.11.4               2  bioconda            \n",
      "fastqc                        0.11.5               1  bioconda            \n",
      "fastqc                        0.11.5               4  bioconda            \n",
      "fastqc                        0.11.5      hdfd78af_5  bioconda            \n",
      "fastqc                        0.11.5      pl5.22.0_2  bioconda            \n",
      "fastqc                        0.11.5      pl5.22.0_3  bioconda            \n",
      "fastqc                        0.11.6               2  bioconda            \n",
      "fastqc                        0.11.6      pl5.22.0_0  bioconda            \n",
      "fastqc                        0.11.6      pl5.22.0_1  bioconda            \n",
      "fastqc                        0.11.7               4  bioconda            \n",
      "fastqc                        0.11.7               5  bioconda            \n",
      "fastqc                        0.11.7               6  bioconda            \n",
      "fastqc                        0.11.7      hdfd78af_7  bioconda            \n",
      "fastqc                        0.11.7      pl5.22.0_0  bioconda            \n",
      "fastqc                        0.11.7      pl5.22.0_2  bioconda            \n",
      "fastqc                        0.11.8               0  bioconda            \n",
      "fastqc                        0.11.8               1  bioconda            \n",
      "fastqc                        0.11.8               2  bioconda            \n",
      "fastqc                        0.11.9               0  bioconda            \n",
      "fastqc                        0.11.9      hdfd78af_1  bioconda            \n"
     ]
    }
   ],
   "source": [
    "conda search fastqc -c bioconda"
   ]
  },
  {
   "cell_type": "markdown",
   "id": "0e06d5f7-6625-4e33-8734-d1ef725befac",
   "metadata": {},
   "source": [
    "2. Create a conda enviornment\n",
    "\n",
    "Conda uses something called \"enviornments\" which are essentially isolated configurations on our computer where we can included all the needed compatible tools and exlude other tools which are unnesessary or would have conflicts with our desired tool. We will use the `-y` option to install without prompting the user for input, the `--name` option to name the enviornment for the tool. We will enforce versioning (`tool==version`) so that we know what version of a tool was used to do an analysis should we wish to repeat the analysis. \n",
    "\n",
    "**Tip**: Use the latest version where possible, but if you get an error with dependancies, using a lower version may help. Some tools may never be installed successfully using conda, but we will face those when we have too. \n"
   ]
  },
  {
   "cell_type": "code",
   "execution_count": 2,
   "id": "9c449b7a-ba00-45a9-a23a-acadad02e6eb",
   "metadata": {},
   "outputs": [
    {
     "name": "stdout",
     "output_type": "stream",
     "text": [
      "Collecting package metadata (current_repodata.json): done\n",
      "Solving environment: done\n",
      "\n",
      "\n",
      "==> WARNING: A newer version of conda exists. <==\n",
      "  current version: 4.12.0\n",
      "  latest version: 22.11.1\n",
      "\n",
      "Please update conda by running\n",
      "\n",
      "    $ conda update -n base -c defaults conda\n",
      "\n",
      "\n",
      "\n",
      "## Package Plan ##\n",
      "\n",
      "  environment location: /home/exouser/.conda/envs/fastqc\n",
      "\n",
      "  added / updated specs:\n",
      "    - fastqc==0.11.9\n",
      "\n",
      "\n",
      "The following packages will be downloaded:\n",
      "\n",
      "    package                    |            build\n",
      "    ---------------------------|-----------------\n",
      "    _openmp_mutex-5.1          |            1_gnu          21 KB\n",
      "    expat-2.4.9                |       h6a678d5_0         156 KB\n",
      "    fastqc-0.11.9              |       hdfd78af_1         9.7 MB  bioconda\n",
      "    font-ttf-dejavu-sans-mono-2.37|       hd3eb1b0_0         335 KB\n",
      "    fontconfig-2.14.1          |       h52c9d5c_1         281 KB\n",
      "    freetype-2.12.1            |       h4a9f257_0         626 KB\n",
      "    gdbm-1.18                  |       hd4cb3f1_4         194 KB\n",
      "    glib-2.69.1                |       he621ea3_2         1.9 MB\n",
      "    libffi-3.4.2               |       h6a678d5_6         136 KB\n",
      "    libgcc-ng-11.2.0           |       h1234567_1         5.3 MB\n",
      "    libgomp-11.2.0             |       h1234567_1         474 KB\n",
      "    libstdcxx-ng-11.2.0        |       h1234567_1         4.7 MB\n",
      "    libuuid-1.41.5             |       h5eee18b_0          27 KB\n",
      "    libxcb-1.15                |       h7f8727e_0         505 KB\n",
      "    libxml2-2.9.14             |       h74e7548_0         718 KB\n",
      "    ncurses-6.3                |       h5eee18b_3         781 KB\n",
      "    openjdk-11.0.13            |       h87a67e3_0       341.0 MB\n",
      "    perl-5.34.0                |       h5eee18b_2        12.4 MB\n",
      "    readline-8.2               |       h5eee18b_0         357 KB\n",
      "    xz-5.2.8                   |       h5eee18b_0         429 KB\n",
      "    zlib-1.2.13                |       h5eee18b_0         103 KB\n",
      "    ------------------------------------------------------------\n",
      "                                           Total:       380.1 MB\n",
      "\n",
      "The following NEW packages will be INSTALLED:\n",
      "\n",
      "  _libgcc_mutex      pkgs/main/linux-64::_libgcc_mutex-0.1-main\n",
      "  _openmp_mutex      pkgs/main/linux-64::_openmp_mutex-5.1-1_gnu\n",
      "  dbus               pkgs/main/linux-64::dbus-1.13.18-hb2f20db_0\n",
      "  expat              pkgs/main/linux-64::expat-2.4.9-h6a678d5_0\n",
      "  fastqc             bioconda/noarch::fastqc-0.11.9-hdfd78af_1\n",
      "  font-ttf-dejavu-s~ pkgs/main/noarch::font-ttf-dejavu-sans-mono-2.37-hd3eb1b0_0\n",
      "  fontconfig         pkgs/main/linux-64::fontconfig-2.14.1-h52c9d5c_1\n",
      "  freetype           pkgs/main/linux-64::freetype-2.12.1-h4a9f257_0\n",
      "  gdbm               pkgs/main/linux-64::gdbm-1.18-hd4cb3f1_4\n",
      "  glib               pkgs/main/linux-64::glib-2.69.1-he621ea3_2\n",
      "  icu                pkgs/main/linux-64::icu-58.2-he6710b0_3\n",
      "  libffi             pkgs/main/linux-64::libffi-3.4.2-h6a678d5_6\n",
      "  libgcc-ng          pkgs/main/linux-64::libgcc-ng-11.2.0-h1234567_1\n",
      "  libgomp            pkgs/main/linux-64::libgomp-11.2.0-h1234567_1\n",
      "  libpng             pkgs/main/linux-64::libpng-1.6.37-hbc83047_0\n",
      "  libstdcxx-ng       pkgs/main/linux-64::libstdcxx-ng-11.2.0-h1234567_1\n",
      "  libuuid            pkgs/main/linux-64::libuuid-1.41.5-h5eee18b_0\n",
      "  libxcb             pkgs/main/linux-64::libxcb-1.15-h7f8727e_0\n",
      "  libxml2            pkgs/main/linux-64::libxml2-2.9.14-h74e7548_0\n",
      "  ncurses            pkgs/main/linux-64::ncurses-6.3-h5eee18b_3\n",
      "  openjdk            pkgs/main/linux-64::openjdk-11.0.13-h87a67e3_0\n",
      "  pcre               pkgs/main/linux-64::pcre-8.45-h295c915_0\n",
      "  perl               pkgs/main/linux-64::perl-5.34.0-h5eee18b_2\n",
      "  readline           pkgs/main/linux-64::readline-8.2-h5eee18b_0\n",
      "  xz                 pkgs/main/linux-64::xz-5.2.8-h5eee18b_0\n",
      "  zlib               pkgs/main/linux-64::zlib-1.2.13-h5eee18b_0\n",
      "\n",
      "\n",
      "\n",
      "Downloading and Extracting Packages\n",
      "readline-8.2         | 357 KB    | ##################################### | 100% \n",
      "freetype-2.12.1      | 626 KB    | ##################################### | 100% \n",
      "libgcc-ng-11.2.0     | 5.3 MB    | ##################################### | 100% \n",
      "libgomp-11.2.0       | 474 KB    | ##################################### | 100% \n",
      "glib-2.69.1          | 1.9 MB    | ##################################### | 100% \n",
      "expat-2.4.9          | 156 KB    | ##################################### | 100% \n",
      "_openmp_mutex-5.1    | 21 KB     | ##################################### | 100% \n",
      "zlib-1.2.13          | 103 KB    | ##################################### | 100% \n",
      "libstdcxx-ng-11.2.0  | 4.7 MB    | ##################################### | 100% \n",
      "fastqc-0.11.9        | 9.7 MB    | ##################################### | 100% \n",
      "libuuid-1.41.5       | 27 KB     | ##################################### | 100% \n",
      "libxcb-1.15          | 505 KB    | ##################################### | 100% \n",
      "libxml2-2.9.14       | 718 KB    | ##################################### | 100% \n",
      "libffi-3.4.2         | 136 KB    | ##################################### | 100% \n",
      "perl-5.34.0          | 12.4 MB   | ##################################### | 100% \n",
      "fontconfig-2.14.1    | 281 KB    | ##################################### | 100% \n",
      "xz-5.2.8             | 429 KB    | ##################################### | 100% \n",
      "font-ttf-dejavu-sans | 335 KB    | ##################################### | 100% \n",
      "ncurses-6.3          | 781 KB    | ##################################### | 100% \n",
      "gdbm-1.18            | 194 KB    | ##################################### | 100% \n",
      "openjdk-11.0.13      | 341.0 MB  | ##################################### | 100% \n",
      "Preparing transaction: done\n",
      "Verifying transaction: done\n",
      "Executing transaction: done\n",
      "#\n",
      "# To activate this environment, use\n",
      "#\n",
      "#     $ conda activate fastqc\n",
      "#\n",
      "# To deactivate an active environment, use\n",
      "#\n",
      "#     $ conda deactivate\n",
      "\n"
     ]
    }
   ],
   "source": [
    "conda create -y --name fastqc fastqc==0.11.9 -c bioconda"
   ]
  },
  {
   "cell_type": "markdown",
   "id": "64752baf-b13a-46fb-a874-71b3290d40fc",
   "metadata": {},
   "source": [
    "3. We will use the `conda init` command so that conda can be configured for this shell"
   ]
  },
  {
   "cell_type": "code",
   "execution_count": 3,
   "id": "37f2449f-699d-4dd2-9c44-b2dc6da42543",
   "metadata": {},
   "outputs": [
    {
     "name": "stdout",
     "output_type": "stream",
     "text": [
      "no change     /opt/anaconda3/condabin/conda\n",
      "no change     /opt/anaconda3/bin/conda\n",
      "no change     /opt/anaconda3/bin/conda-env\n",
      "no change     /opt/anaconda3/bin/activate\n",
      "no change     /opt/anaconda3/bin/deactivate\n",
      "no change     /opt/anaconda3/etc/profile.d/conda.sh\n",
      "no change     /opt/anaconda3/etc/fish/conf.d/conda.fish\n",
      "no change     /opt/anaconda3/shell/condabin/Conda.psm1\n",
      "no change     /opt/anaconda3/shell/condabin/conda-hook.ps1\n",
      "no change     /opt/anaconda3/lib/python3.9/site-packages/xontrib/conda.xsh\n",
      "no change     /opt/anaconda3/etc/profile.d/conda.csh\n",
      "modified      /home/exouser/.bashrc\n",
      "\n",
      "==> For changes to take effect, close and re-open your current shell. <==\n",
      "\n"
     ]
    }
   ],
   "source": [
    "conda init"
   ]
  },
  {
   "cell_type": "markdown",
   "id": "45dc24e8-678e-4083-a6d2-e42c01ea4017",
   "metadata": {},
   "source": [
    "4. **DON'T SKIP**: We need to restart the computer's [kernal](https://en.wikipedia.org/wiki/Kernel_(operating_system)). Go to the **Kernal** menu and choose **Restart Kernal**"
   ]
  },
  {
   "cell_type": "markdown",
   "id": "59c6084e-2d7d-430f-9a08-f6c9cfb6090e",
   "metadata": {},
   "source": [
    "5. Finally, we can activate the conda enviornment (created with the name used for the environment). When you run the next cell it should return the name of the environment.  "
   ]
  },
  {
   "cell_type": "code",
   "execution_count": 1,
   "id": "e72c97e4-8379-4cd8-93b6-8cebe0db17d2",
   "metadata": {},
   "outputs": [
    {
     "name": "stdout",
     "output_type": "stream",
     "text": [
      "(fastqc) "
     ]
    },
    {
     "ename": "",
     "evalue": "1",
     "output_type": "error",
     "traceback": []
    }
   ],
   "source": [
    "conda activate fastqc"
   ]
  },
  {
   "cell_type": "markdown",
   "id": "aad8293c-edb6-4207-9f29-a1726cc740b4",
   "metadata": {},
   "source": [
    "## Connecting to our project and dataset folders"
   ]
  },
  {
   "cell_type": "markdown",
   "id": "f133af10-fbce-4d26-991c-25e8e8e6253d",
   "metadata": {},
   "source": [
    "We have to check that this notebook is running in the expected directory, and that you have a project folder. When you run the following command, your working directory should be `/home/exouser`\n",
    "\n",
    "1. Check our working directory"
   ]
  },
  {
   "cell_type": "code",
   "execution_count": 2,
   "id": "6fd5f403-9764-46e3-b107-9fd148db31f1",
   "metadata": {},
   "outputs": [
    {
     "name": "stdout",
     "output_type": "stream",
     "text": [
      "/mnt/ceph/notebooks\n",
      "(fastqc) "
     ]
    },
    {
     "ename": "",
     "evalue": "1",
     "output_type": "error",
     "traceback": []
    }
   ],
   "source": [
    "pwd"
   ]
  },
  {
   "cell_type": "markdown",
   "id": "adc40921-88d6-4ba0-8e47-ff9313ea1eea",
   "metadata": {},
   "source": [
    "**(Optional)**: If the `pwd` command did not give you `/home/exouser` run the following command, otherwise **skip**. Please also keep in mind - you **should not** be running this notebook in `/mnt/ceph/notebooks`, so ask for help if you get this result."
   ]
  },
  {
   "cell_type": "code",
   "execution_count": 3,
   "id": "9eecf105-4ade-481d-b764-145ffc91204e",
   "metadata": {},
   "outputs": [
    {
     "name": "stdout",
     "output_type": "stream",
     "text": [
      "(fastqc) "
     ]
    },
    {
     "ename": "",
     "evalue": "1",
     "output_type": "error",
     "traceback": []
    }
   ],
   "source": [
    "cd /home/exouser # only run this if needed"
   ]
  },
  {
   "cell_type": "markdown",
   "id": "ddacd6bd-4c64-46ec-b2b9-3ca0e43b7e5c",
   "metadata": {},
   "source": [
    "2. Inspect the `project` folder. \n",
    "\n",
    "You should also have a project folder which is linked to your home folder on the shared drive. Running the following command should generate something like:\n",
    "\n",
    "`lrwxrwxrwx 1 exouser exouser 19 Dec 30 21:27 jwilliams -> /mnt/ceph/YOURUSERNAME`"
   ]
  },
  {
   "cell_type": "code",
   "execution_count": 6,
   "id": "b7f3516f-74b5-4e1c-bfab-19eda2f4e355",
   "metadata": {},
   "outputs": [
    {
     "name": "stdout",
     "output_type": "stream",
     "text": [
      "total 0\n",
      "lrwxrwxrwx 1 exouser exouser 19 Dec 30 21:27 jwilliams -> /mnt/ceph/jwilliams\n",
      "(fastqc) "
     ]
    },
    {
     "ename": "",
     "evalue": "1",
     "output_type": "error",
     "traceback": []
    }
   ],
   "source": [
    "ls -lh project --color=never"
   ]
  },
  {
   "cell_type": "markdown",
   "id": "5e1e5e0d-c546-4eb7-9f4f-e6cc91194323",
   "metadata": {},
   "source": [
    "**(Optional)**: If you don't have a `project` folder linked to your folder on the shared drive, run the command below. Remeber to change `YOURUSERNAME` to the name of your folder. "
   ]
  },
  {
   "cell_type": "code",
   "execution_count": null,
   "id": "99b724c9-eba7-42aa-a90c-cc8c98530bba",
   "metadata": {},
   "outputs": [],
   "source": [
    "mkdir -p project && ln -s /mnt/ceph/YOURUSERNAME project # run only if needed, fix YOURUSERNAME"
   ]
  },
  {
   "cell_type": "markdown",
   "id": "1a561a63-2af5-4d20-9150-5d34cd1d0dce",
   "metadata": {},
   "source": [
    "3. Connect to and inspect the folder of FASTQ reads. \n",
    "\n",
    "Let's also make sure the project folder has a link to the FASTQ reads we will use and also create a place for the results of your FastQC analysis. \n",
    "\n",
    "The next command will create a link in your project folder to a location on the shared drive where we have placed all of the Chamecrista FASTQ reads. "
   ]
  },
  {
   "cell_type": "code",
   "execution_count": 7,
   "id": "23126594-99a7-4f55-a70d-24013b3e4e36",
   "metadata": {},
   "outputs": [
    {
     "name": "stdout",
     "output_type": "stream",
     "text": [
      "(fastqc) "
     ]
    },
    {
     "ename": "",
     "evalue": "1",
     "output_type": "error",
     "traceback": []
    }
   ],
   "source": [
    "ln -s /mnt/ceph/chamecrista_sup_fastq project/chamecrista_fastq"
   ]
  },
  {
   "cell_type": "markdown",
   "id": "58f533ab-9d36-4fb8-8d1c-16300ee72c71",
   "metadata": {},
   "source": [
    "4. List the reads\n",
    "\n",
    "When we look in the newly created `chamecrista_fastq` folder we should see a collection of reads we can analyze. "
   ]
  },
  {
   "cell_type": "code",
   "execution_count": 16,
   "id": "3671f37d-6500-4bca-a60d-95eeb4701e45",
   "metadata": {},
   "outputs": [
    {
     "name": "stdout",
     "output_type": "stream",
     "text": [
      "project/chamecrista_fastq/:\n",
      "total 23G\n",
      "-rw-rw-r-- 1 exouser exouser  70M Dec 30 18:52 10000_called_reads.fastq\n",
      "-rw-rw-r-- 1 exouser exouser  33M Dec 30 19:55 \u001b[0m\u001b[01;31m10000_called_reads.fastq.gz\u001b[0m\n",
      "-rw-rw-r-- 1 exouser exouser 6.7M Dec 30 18:52 1000_called_reads.fastq\n",
      "-rw-rw-r-- 1 exouser exouser 3.2M Dec 30 19:55 \u001b[01;31m1000_called_reads.fastq.gz\u001b[0m\n",
      "-rw-rw-r-- 1 exouser exouser 152K Dec 30 18:51 100_called_reads.fastq\n",
      "-rw-rw-r-- 1 exouser exouser  76K Dec 30 19:54 \u001b[01;31m100_called_reads.fastq.gz\u001b[0m\n",
      "-rw-rw-r-- 1 exouser exouser  15G Dec 30 18:45 called_reads.fastq\n",
      "-rw-rw-r-- 1 exouser exouser 7.1G Dec 30 19:19 \u001b[01;31mcalled_reads.fastq.gz\u001b[0m\n",
      "(fastqc) "
     ]
    },
    {
     "ename": "",
     "evalue": "1",
     "output_type": "error",
     "traceback": []
    }
   ],
   "source": [
    "ls -Rlh project/chamecrista_fastq/ "
   ]
  },
  {
   "cell_type": "markdown",
   "id": "43aa3efa-ca3a-4abd-a5f8-c1cef8f9fd63",
   "metadata": {},
   "source": [
    "The following summarizes what we have:\n",
    "\n",
    "- `called_reads.fastq` : All of the reads done during the 2022 sequencing project\n",
    "- `100_called_reads.fastq`: A subset of the first 100 reads in `called_reads.fastq`\n",
    "- `1000_called_reads.fastq`: A subset of the first 1000 reads in `called_reads.fastq`\n",
    "- `10000_called_reads.fastq`: A subset of the first 10000 reads in `called_reads.fastq`\n",
    "\n",
    "The versions of the above withe the `.gz` file extension are compressed versions of the above list. \n",
    "\n",
    "5. Create an output folder for the `fastqc` analysis. \n",
    "\n",
    "Finally, let's create a place in our project directory to store the output of our `FastQC` analysis. "
   ]
  },
  {
   "cell_type": "code",
   "execution_count": 26,
   "id": "58d14418-f49f-4de0-9f8b-5a22da449bc9",
   "metadata": {},
   "outputs": [
    {
     "name": "stdout",
     "output_type": "stream",
     "text": [
      "(fastqc) "
     ]
    },
    {
     "ename": "",
     "evalue": "1",
     "output_type": "error",
     "traceback": []
    }
   ],
   "source": [
    "mkdir -p project/fastqc_results"
   ]
  },
  {
   "cell_type": "markdown",
   "id": "56be00cf",
   "metadata": {},
   "source": [
    "## Running Fast QC"
   ]
  },
  {
   "cell_type": "markdown",
   "id": "ac676a87",
   "metadata": {},
   "source": [
    "First, we will be run FastQC on a small subset of the sequence reads. In this exercise, the reads are in the `project/chamecrista_fastq` folder. We will run on a sample that has 10000 fastq files from the experiment (`1000_called_reads.fastq.gz`). \n",
    "\n",
    "**Tip**: When using commands or searching for files, the tab key will help you autocomplete (and help ensure the files and commands you think you have are actually accessible)."
   ]
  },
  {
   "cell_type": "markdown",
   "id": "4a510060-48c0-4613-be23-25d0b6304758",
   "metadata": {},
   "source": [
    "1. Run fastqc on the `1000_called_reads.fastq.gz` file located in concat_fastq\n",
    "\n",
    "**Command breakdown**\n",
    "\n",
    "- `fastqc` - The name of the program\n",
    "- `~/project/chamecrista_fastq/1000_called_reads.fastq.gz` - The location and name of the file we want to analyze\n",
    "- `-t 16` the number of CPU threads to use (*Note* generally, the higher this number the faster your analysis. However this number can't be higher than the actual number of CPUs you have available to do the work\n",
    "- `-o ~/project/fastqc_results` - The location to write the output results"
   ]
  },
  {
   "cell_type": "code",
   "execution_count": 32,
   "id": "bbebb2fe-18b6-4b5c-90a4-2f35a7ffcc9c",
   "metadata": {},
   "outputs": [
    {
     "name": "stdout",
     "output_type": "stream",
     "text": [
      "Started analysis of 10000_called_reads.fastq.gz\n",
      "Approx 5% complete for 10000_called_reads.fastq.gz\n",
      "Approx 15% complete for 10000_called_reads.fastq.gz\n",
      "Approx 30% complete for 10000_called_reads.fastq.gz\n",
      "Approx 40% complete for 10000_called_reads.fastq.gz\n",
      "Approx 50% complete for 10000_called_reads.fastq.gz\n",
      "Approx 55% complete for 10000_called_reads.fastq.gz\n",
      "Approx 65% complete for 10000_called_reads.fastq.gz\n",
      "Approx 75% complete for 10000_called_reads.fastq.gz\n",
      "Approx 85% complete for 10000_called_reads.fastq.gz\n",
      "Approx 100% complete for 10000_called_reads.fastq.gz\n",
      "Analysis complete for 10000_called_reads.fastq.gz\n",
      "(fastqc) "
     ]
    },
    {
     "ename": "",
     "evalue": "1",
     "output_type": "error",
     "traceback": []
    }
   ],
   "source": [
    "fastqc ~/project/chamecrista_fastq/1000_called_reads.fastq.gz -t 16 -o ~/project/fastqc_results"
   ]
  },
  {
   "cell_type": "markdown",
   "id": "0c28c761",
   "metadata": {},
   "source": [
    "2. In the file browser (left of your screen) navigate into the `~/project/fastqc_results` folder to locate the following outputs:\n",
    "\n",
    "- There are two outputs from the fastqc command.\n",
    "\n",
    "         1. An .html file (than can be viewed as a webpage)\n",
    "         2. A .zip file that contains individual images and reports"
   ]
  },
  {
   "cell_type": "markdown",
   "id": "f6670347",
   "metadata": {},
   "source": [
    "3. Use the file browser to take a look at the results we can double click on the .html file and navigate through the different reports.\n",
    "\n",
    "# Questions\n",
    "\n",
    "The documentation for each fastqc report is located in the [fastqc help](https://www.bioinformatics.babraham.ac.uk/projects/fastqc/Help/3%20Analysis%20Modules/)\n",
    "\n",
    "\n",
    "- How many sequences were analyzed; what were their lengths?\n",
    "\n",
    "-  Is the per base sequence quality more or less the same across the length of the sequence? Are there locations of the sequence that tend to have higher or lower Phred scores?\n",
    "\n",
    "\n",
    "- Are there over represented sequences? Can they be identified ?"
   ]
  },
  {
   "cell_type": "markdown",
   "id": "fb495887-5fbf-4b67-9b43-c43c8cd540fa",
   "metadata": {},
   "source": [
    "# Challenges"
   ]
  },
  {
   "cell_type": "markdown",
   "id": "3fc4b0b4-4b9d-4567-96cc-b3e2f1bc4dcc",
   "metadata": {},
   "source": [
    "1. Repeat this analysis for the sample of 10000 reads (~/project/chamecrista_fastq/10000_called_reads.fastq.gz) and then the entire data set (~/project/chamecrista_fastq/called_reads.fastq.gz). Save your work in this notebook.\n",
    "\n",
    "**Tip**: Run fastqc with the `-t` option so that it can use all available cpus. For example `fastqc -t 16 reads.fastq.gz` would use 16 cpus. Check to make sure the number of CPUs matches the number you launched with using cyverse. You can check the number using the command `cat /proc/cpuinfo` - add \"1\" to the last processor listed since the count starts at 0. See also `fastqc --help`"
   ]
  }
 ],
 "metadata": {
  "kernelspec": {
   "display_name": "Bash",
   "language": "bash",
   "name": "bash"
  },
  "language_info": {
   "codemirror_mode": "shell",
   "file_extension": ".sh",
   "mimetype": "text/x-sh",
   "name": "bash"
  }
 },
 "nbformat": 4,
 "nbformat_minor": 5
}
