{
 "cells": [
  {
   "cell_type": "markdown",
   "id": "2f6102a5",
   "metadata": {},
   "source": [
    "# Assembly Quality Control with QUAST"
   ]
  },
  {
   "cell_type": "markdown",
   "id": "f5008296",
   "metadata": {},
   "source": [
    "[QUality ASsessment Tool](http://quast.sourceforge.net/docs/manual.html#sec2) is tool that generates statsistics and quality information about a genome assembly. This tool can help you to understand how well your assembly was done - how complete is it? There are a number of ways to ask this question. You can also examine muliple assemblies and compare between them. If there is a reference assembly (i.e., an assembly that was generated and published by researchers elsewhere) you can compare your assembly with the accepted standard (did you do as well, better, worse?).  "
   ]
  },
  {
   "cell_type": "markdown",
   "id": "8832ce32",
   "metadata": {},
   "source": [
    "## What you'll need to run this notebook\n",
    "\n",
    "1. You will need any genome assemblies (fasta files: .fa, .fasta). \n",
    "3. S.polyrhiza has a reference genome, we will use this as a comparison. \n",
    "2. We recommend running this notebook with at least 16 CPUs and 64GB of RAM "
   ]
  },
  {
   "cell_type": "markdown",
   "id": "74f63127",
   "metadata": {},
   "source": [
    "### Watch the video introduction for a little bit of background on how this assembly QC tool works\n",
    "\n",
    "[Compare Multiple assemblies using QUAST](https://youtu.be/rLsEH2XIuIE)"
   ]
  },
  {
   "cell_type": "markdown",
   "id": "c1e7c0d2",
   "metadata": {},
   "source": [
    "## Installing QUAST"
   ]
  },
  {
   "cell_type": "markdown",
   "id": "6351ef28",
   "metadata": {},
   "source": [
    "As always, we will install the software; again we will use conda. \n",
    "\n",
    "**Important**: Make sure you execute each numbered step "
   ]
  },
  {
   "cell_type": "markdown",
   "id": "b230ac6e",
   "metadata": {},
   "source": [
    "1. We will search for the tool we want to install\n",
    "\n",
    "We will use the `conda search` command and the channel (`-c`) flag to search [bioconda](https://bioconda.github.io/)"
   ]
  },
  {
   "cell_type": "code",
   "execution_count": null,
   "id": "fd3c4543",
   "metadata": {},
   "outputs": [],
   "source": [
    "conda search quast -c bioconda"
   ]
  },
  {
   "cell_type": "markdown",
   "id": "db098874",
   "metadata": {},
   "source": [
    "There is another tool that creates a [circos plot](http://circos.ca/); this does not come with QUAST so we'll need that too. "
   ]
  },
  {
   "cell_type": "code",
   "execution_count": null,
   "id": "1191d522",
   "metadata": {},
   "outputs": [],
   "source": [
    "conda search circos -c bioconda"
   ]
  },
  {
   "cell_type": "markdown",
   "id": "70b6c8ec",
   "metadata": {},
   "source": [
    "2. Create a conda enviornment\n",
    "\n",
    "Conda uses something called \"enviornments\" which are essentially isolated configurations on our computer where we can included all the needed compatible tools and exlude other tools which are unnesessary or would have conflicts with our desired tool. We will use the `-y` option to install without prompting the user for input, the `--name` option to name the enviornment for the tool. We will enforce versioning (`tool==version`) so that we know what version of a tool was used to do an analysis should we wish to repeat the analysis. \n",
    "\n",
    "**Tip**: Use the latest version where possible, but if you get an error with dependancies, using a lower version may help. Some tools may never be installed successfully using conda, but we will face those when we have too. \n",
    "\n",
    "**Bonus tip**: In the installation command below we also specify the [build](https://medium.com/webgentle/what-is-the-software-build-all-you-need-to-know-4046b0e674bb) by adding an additional `=` after the version (5.0.2) and copying from the build column from our search results  above. In this case we are specifying to use tools compatible with Python 3.7 (a more up-to-date version than currently installed). We also add the `-c` command to tell conda that it can search for all the software [dependancies](https://askubuntu.com/questions/361741/what-are-dependencies) in the bioconda AND the conda-forge software repositories. We will simultaneously install the Circos package. \n"
   ]
  },
  {
   "cell_type": "code",
   "execution_count": null,
   "id": "d53febae",
   "metadata": {},
   "outputs": [],
   "source": [
    "conda create -y --name quast quast==5.0.2=py37pl5321hfecc14a_6 circos==0.69.8=hdfd78af_1 -c bioconda -c conda-forge"
   ]
  },
  {
   "cell_type": "markdown",
   "id": "94a3c1cb",
   "metadata": {},
   "source": [
    "3. We will use the `conda init` command so that conda can be configured for this shell"
   ]
  },
  {
   "cell_type": "code",
   "execution_count": null,
   "id": "a2b3d225",
   "metadata": {},
   "outputs": [],
   "source": [
    "conda init"
   ]
  },
  {
   "cell_type": "markdown",
   "id": "beccde5e",
   "metadata": {},
   "source": [
    "4. **DON'T SKIP**: We need to restart the computer's [kernal](https://en.wikipedia.org/wiki/Kernel_(operating_system)). Go to the **Kernal** menu and choose **Restart Kernal**"
   ]
  },
  {
   "cell_type": "markdown",
   "id": "62ad9192",
   "metadata": {},
   "source": [
    "5. Finally, we can activate the conda enviornment (created with the name used for the environment). When you run the next cell it should return the name of the environment.  "
   ]
  },
  {
   "cell_type": "code",
   "execution_count": null,
   "id": "687326f1",
   "metadata": {},
   "outputs": [],
   "source": [
    "conda activate quast"
   ]
  },
  {
   "cell_type": "markdown",
   "id": "79388867",
   "metadata": {},
   "source": [
    "## Running QUAST"
   ]
  },
  {
   "cell_type": "markdown",
   "id": "51831cbe",
   "metadata": {},
   "source": [
    "We have example assemblies from Flye, Readbean, and Canu, as well as a reference for this species. We can use them in comparison with your own. \n",
    "\n",
    "**Tip**: When using commands or searching for files, the tab key will help you autocomplete (and help ensure the files and commands you think you have are actually accessible).\n",
    "\n"
   ]
  },
  {
   "cell_type": "markdown",
   "id": "4687c842",
   "metadata": {},
   "source": [
    "## Questions to think about before running this software\n",
    "\n",
    "There are a number of terms to be familiar with before you examine the QUAST reports. Wikipedia and YouTube will be your friend here: \n",
    "\n",
    "1. What is a [contig](https://en.wikipedia.org/wiki/Contig)?\n",
    "2. What is the N50 metric? (See [Different Assembly statistics (N50, L50, NG50, LG50, NA50, NGA50 and Misassemblies)](https://youtu.be/ViXzKrQo25k))\n",
    "3. What is a [reference genome](https://en.wikipedia.org/wiki/Reference_genome)?\n"
   ]
  },
  {
   "cell_type": "markdown",
   "id": "4ce29217",
   "metadata": {},
   "source": [
    "### Setting up BUSCO"
   ]
  },
  {
   "cell_type": "markdown",
   "id": "4fafeb03",
   "metadata": {},
   "source": [
    "Before we start the QUAST tool, we will also download the [BUSCO](https://busco.ezlab.org/) dataset. One of the ways we can determine if we have a complete assembly is to search for genes we would expect to be present. For different forms of life (e.g., bacteria, animals, etc.) there are genes we would expect to be present. The percentage of those genes that are detected in your assembly is a clue to its quality.  "
   ]
  },
  {
   "cell_type": "markdown",
   "id": "62a24d81",
   "metadata": {},
   "source": [
    "As suggested in the installtion output (the conda create command above) we should run another QUAST command to install some additional tools. This has not always worked so we have some optional commands below if you get error messages. For this job, we need Augustus (a software for gene prediction) and the BUSCO eukaryote library to install. We can ignore other failed installations. Perhaps an updated QUAST version will fix this. "
   ]
  },
  {
   "cell_type": "code",
   "execution_count": null,
   "id": "d9926ef1-c6bc-4b47-aec8-295a113a5843",
   "metadata": {},
   "outputs": [],
   "source": [
    "# first try this\n",
    "quast-download-busco"
   ]
  },
  {
   "cell_type": "code",
   "execution_count": null,
   "id": "34b8a75d",
   "metadata": {},
   "outputs": [],
   "source": [
    "# If you get \"ERROR! Failed downloading eukaryota database\" run this cell\n",
    "\n",
    "wget https://data.cyverse.org/dav-anon/iplant/projects/cyverse_training/classrooms/dnalc_genome_camp/jupyter_notebooks/assembly_qc/busco/eukaryota_odb9.tar.gz \\\n",
    " --output-document /opt/anaconda3/envs/quast/lib/python3.7/site-packages/quast_libs/busco/eukaryota.tar.gz"
   ]
  },
  {
   "cell_type": "markdown",
   "id": "4614cf4d",
   "metadata": {},
   "source": [
    "### Example 1 (optional) - running QUAST on example assemblies"
   ]
  },
  {
   "cell_type": "markdown",
   "id": "f45ef42f",
   "metadata": {},
   "source": [
    "We have selected two draft gene assemblies you can examine:\n",
    "\n",
    "- `spolyrhiza_wtdbg.ctg.fa`; assembled by Readbean\n",
    "- `spolyrhiza_canu.contigs.fasta`; assembled by canu\n",
    "\n",
    "We can examine these using QUAST and you can add your own genome assembly to the comparison. "
   ]
  },
  {
   "cell_type": "markdown",
   "id": "ae1708cf",
   "metadata": {},
   "source": [
    "1. First, since we will have a lot of results, let's make an output directory first to keep results organizes"
   ]
  },
  {
   "cell_type": "code",
   "execution_count": null,
   "id": "cdf3237b",
   "metadata": {},
   "outputs": [],
   "source": [
    "mkdir -p quast_example_QC"
   ]
  },
  {
   "cell_type": "markdown",
   "id": "0376078e",
   "metadata": {},
   "source": [
    "2. Since there is an draft assembly (.faa, another extension for a fasta file) for other S.polyrhiza, we can download and use that in our comparisons. We will also get the gene annotations from this assembly (.gff file). \n"
   ]
  },
  {
   "cell_type": "code",
   "execution_count": null,
   "id": "04bc9d04",
   "metadata": {},
   "outputs": [],
   "source": [
    "#Reference genome\n",
    "wget https://data.cyverse.org/dav-anon/iplant/projects/cyverse_training/classrooms/dnalc_genome_camp/jupyter_notebooks/assembly_qc/busco/Spirodela_polyrhiza_strain_7498.faa\n",
    "\n",
    "#Reference annotations\n",
    "wget https://data.cyverse.org/dav-anon/iplant/projects/cyverse_training/classrooms/dnalc_genome_camp/jupyter_notebooks/assembly_qc/busco/Spirodela_polyrhiza_strain_7498.gff"
   ]
  },
  {
   "cell_type": "markdown",
   "id": "fef235c0",
   "metadata": {},
   "source": [
    "We'll use the following options from the [QUAST manual](http://quast.sourceforge.net/docs/manual.html#sec2.2):\n",
    "\n",
    "- `-o` - Specify the output directory\n",
    "- `-r` - Specify the reference genome\n",
    "- `--features` - Specify the gene locations and names from a gene annotation file\n",
    "- `--threads` - Specify number of threads\n",
    "- `--eukaryote` - Indicate data is eykaryotic\n",
    "- `--circos` - Create circos plot\n",
    "- `--labels` - A list of lables for the assemblies - ensure these are in the order you enter your assembly paths\n",
    "\n",
    "**Note**: QUAST is done when you get the **Thank you for using QUAST!** message. "
   ]
  },
  {
   "cell_type": "code",
   "execution_count": null,
   "id": "1ecfdaa9",
   "metadata": {},
   "outputs": [],
   "source": [
    "quast -o quast_example_QC \\\n",
    " --no-sv \\\n",
    " --no-snps \\\n",
    " --circos \\\n",
    " -r Spirodela_polyrhiza_strain_7498.faa \\\n",
    " --features Spirodela_polyrhiza_strain_7498.gff \\\n",
    " --threads 40 \\\n",
    " --labels \"Readbean example, Canu example\" \\\n",
    " spolyrhiza_wtdbg.ctg.fa spolyrhiza_canu.contigs.fasta"
   ]
  },
  {
   "cell_type": "markdown",
   "id": "6cff40aa",
   "metadata": {},
   "source": [
    "\n",
    "3. We can copy the results to our output folder"
   ]
  },
  {
   "cell_type": "code",
   "execution_count": null,
   "id": "5f8af61c-44ec-40ba-b729-50aa67bf7766",
   "metadata": {},
   "outputs": [],
   "source": [
    "cp -r quast_example_QC data/output"
   ]
  },
  {
   "cell_type": "markdown",
   "id": "fd180912-9bcd-461b-acdc-1f03db79ce0a",
   "metadata": {},
   "source": [
    "4. In your Jupyter file browser, navigate to the `quast_example_QC` to see your results. You can view some of the reports in this Jupyter Enviornment (i.e. graphs and text files). The HTML reports will not render completely, so you will need to go to CyVerse data store to view the results once you terminate this analysis and go to your ouput folder. "
   ]
  },
  {
   "cell_type": "markdown",
   "id": "389e717d",
   "metadata": {},
   "source": [
    "## Results\n",
    "\n",
    "The [QUAST manual](http://quast.sourceforge.net/docs/manual.html#sec2.2) goes through each report in detail, \n",
    "but here are some highlights to look for:\n",
    "\n",
    "- `basic_stats/cumulative_plot.pdf` - shows how close your assembly is to the reference genome (i.e. how many contigs before all/most of the reference genome are covered)\n",
    "- `basic_stats/GC_content_plot.pdf` - shows how the ratio of G and C nuclotides compares between assemblies\n",
    "- `circos/circos.png` - shows a [circos plot](http://circos.ca/intro/genomic_data/) comparing the genome assemblies to a reference"
   ]
  },
  {
   "cell_type": "markdown",
   "id": "05bd94dd",
   "metadata": {},
   "source": [
    "## Challenge - Use QUAST with your assembly"
   ]
  },
  {
   "cell_type": "markdown",
   "id": "a102574a",
   "metadata": {},
   "source": [
    "Now, it's up to you to use  `QUAST` to evaluate assemblies you have made\n",
    "\n",
    "\n",
    "### What to do\n",
    "\n",
    "1. Use the `mkdir` command to make a unique output directory to save your results (e.g. QUAST_my_assembly). "
   ]
  },
  {
   "cell_type": "code",
   "execution_count": null,
   "id": "3332040a",
   "metadata": {},
   "outputs": [],
   "source": [
    "mkdir "
   ]
  },
  {
   "cell_type": "markdown",
   "id": "51ac6836",
   "metadata": {},
   "source": [
    "2. Complete the command below to try an assembly using the same parameters as the example above. \n",
    "\n",
    "- For the labels, inside quotes enter a title for each one of your assemblies you'd like to compare to the reference - separated by a comma\n",
    "- On the last line of the command, enter the file name of each of your assembles (separated by a space for each file if more than one). The order entered should match what you have put in the labels option.\n",
    "- You can consult the [QUAST manual](http://quast.sourceforge.net/docs/manual.html#sec2.2) to see if there are other changes and/or reports you'd like to try. \n"
   ]
  },
  {
   "cell_type": "code",
   "execution_count": null,
   "id": "36ddb794",
   "metadata": {},
   "outputs": [],
   "source": [
    "quast -o quast_example_QC \\\n",
    " --no-sv \\\n",
    " --no-snps \\\n",
    " --circos \\\n",
    " -r Spirodela_polyrhiza_strain_7498.faa \\\n",
    " --features Spirodela_polyrhiza_strain_7498.gff \\\n",
    " --threads 40 \\\n",
    " --labels \"YOUR LABELS\" \\\n",
    " file1.fasta "
   ]
  },
  {
   "cell_type": "markdown",
   "id": "68a0e8a5",
   "metadata": {},
   "source": [
    "## Document your work"
   ]
  },
  {
   "cell_type": "markdown",
   "id": "c48a9151",
   "metadata": {},
   "source": [
    "We need to keep good track on what changes were made/how a file was produced so that we can fully document our work. In this exercise, it will be critical to know your settings so we can compare results across everyone who does this experiment. You will also be able to go back and reproduce your work if needed. \n",
    "\n",
    "**Make sure to save a copy of this notebook**\n",
    "\n",
    "When you terminate your application in CyVerse the results and data should be written back. You can also select this notebook in the file browser and choose Save and Export Notebook As (HTML) to save an easy-to-read version you can view anytime. "
   ]
  },
  {
   "cell_type": "markdown",
   "id": "22d1a147-dfd0-4136-8a69-d2f4e609660f",
   "metadata": {},
   "source": [
    "1. Copy your QUAST results folder to `data/ouput`"
   ]
  },
  {
   "cell_type": "code",
   "execution_count": null,
   "id": "9bbdb1c7-841d-4030-814b-21c633e109cd",
   "metadata": {},
   "outputs": [],
   "source": [
    "cp -r "
   ]
  },
  {
   "cell_type": "markdown",
   "id": "59d7c387-c52b-46d7-827b-57af0efeff6f",
   "metadata": {},
   "source": [
    "2. Save and then copy your notebook to `data/output`"
   ]
  },
  {
   "cell_type": "code",
   "execution_count": null,
   "id": "732db141-0b88-4b52-85d5-3604aff60f0f",
   "metadata": {},
   "outputs": [],
   "source": [
    "cp assembly_qc_quast.ipynb data/output"
   ]
  }
 ],
 "metadata": {
  "kernelspec": {
   "display_name": "Bash",
   "language": "bash",
   "name": "bash"
  },
  "language_info": {
   "codemirror_mode": "shell",
   "file_extension": ".sh",
   "mimetype": "text/x-sh",
   "name": "bash"
  }
 },
 "nbformat": 4,
 "nbformat_minor": 5
}
