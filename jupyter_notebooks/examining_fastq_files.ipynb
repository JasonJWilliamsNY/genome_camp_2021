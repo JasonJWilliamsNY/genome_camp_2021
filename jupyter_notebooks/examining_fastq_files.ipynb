{
 "cells": [
  {
   "cell_type": "markdown",
   "id": "c87f489d",
   "metadata": {},
   "source": [
    "## Exploring FastQ files"
   ]
  },
  {
   "cell_type": "markdown",
   "id": "a0f10f5d",
   "metadata": {},
   "source": [
    "In the FastQC notebook we saw the standard FastQ file format.\n",
    "\n",
    "For Review: A fastQ file (file extension .fastq) is a file that contains perhaps hundreds of thousands or millions of individual sequence reads. Each sequence read is represented in 4 lines of the file. Here is an example:"
   ]
  },
  {
   "cell_type": "markdown",
   "id": "dfb962ec",
   "metadata": {},
   "source": [
    "```bash\n",
    "@HWI-ST330:304:H045HADXX:1:1101:1111:61397\n",
    "CACTTGTAAGGGCAGGCCCCCTTCACCCTCCCGCTCCTGGGGGANNNNNNNNNNANNNCGAGGCCCTGGGGTAGAGGGNNNNNNNNNNNNNNGATCTTGG\n",
    "+\n",
    "@?@DDDDDDHHH?GH:?FCBGGB@C?DBEGIIIIAEF;FCGGI#########################################################\n",
    "```\n",
    "\n",
    "Line |Description \n",
    "-----|----- \n",
    "1|Always begins with ‘@’ and then information about the read (e.g. it’s direction, the machine it was sequenced on, etc.)\n",
    "2|The actual DNA sequence\n",
    "3|Always begins with a ‘+’ and sometimes the same info in line 1\n",
    "4|Has a string of characters which represent the quality scores; must have same number of characters as line 2"
   ]
  },
  {
   "cell_type": "markdown",
   "id": "edf22d31",
   "metadata": {},
   "source": [
    "## Viewing our FastQ files"
   ]
  },
  {
   "cell_type": "markdown",
   "id": "ce18c81e",
   "metadata": {},
   "source": [
    "We can take a look at our own FastQ files using commands in bash. Let's look in the `concat_fastq` folder"
   ]
  },
  {
   "cell_type": "code",
   "execution_count": null,
   "id": "5140b404-77bb-419a-aff3-548910112e56",
   "metadata": {},
   "outputs": [],
   "source": [
    "#ls lists the contents of a directory - our files are in the concat_fastq folder\n",
    "\n",
    "ls concat_fastq"
   ]
  },
  {
   "cell_type": "markdown",
   "id": "6089a43d-b98c-4a22-b267-cea937dcabd7",
   "metadata": {},
   "source": [
    "You will notice that all the read files end in `.gz`. The `.gz` file extension is used to denote a compressed file archive. Files can be compressed/zipped using the `gzip` command. File compression allows us \"shrink\" large files down to be able to manage them. This can be helpful for sharing and downloading files and taking up less memory. However, when a file is compressed we are unable to view the contents of the file without first deflating it. One way we can look at files is to use the `cat` command\n",
    "\n",
    "Let's use `cat` to see the contents of the Readme.md (a type of text file describing the content of this folder)"
   ]
  },
  {
   "cell_type": "code",
   "execution_count": null,
   "id": "5969a04d-0ef7-41d7-a128-b73f35b2c091",
   "metadata": {},
   "outputs": [],
   "source": [
    "cat concat_fastq/README.md"
   ]
  },
  {
   "cell_type": "markdown",
   "id": "ea95a01f-087c-45b1-b3b9-9410bba45529",
   "metadata": {},
   "source": [
    "## Previewing comressed files with `zcat` , `|`, and `head`\n",
    "\n",
    "Unfortunately, `cat` does not work on compressed fies. One command we can use to look at parts of the gzipped file without unzipping the entire file is `zcat`. \n",
    "\n",
    "The result of the `zcat` command is the same as using `cat` to view the contents of a file. However, when dealing with large files we may just want to a small subsection of the file. For instance, if we want to view the first few lines of our file (to check and see what data is inside) we can `zcat` along with another command `head` , which shows us the first few lines of a file. Since every FASTQ sequence read is exactly 4 lines long, we can call `head` with the `-n` (number of lines) flag to view an individual FASTQ sequence (e.g., 4 lines) or any multiple of 4.\n",
    "\n",
    "## Piping\n",
    "\n",
    "When we use two commands together (i.e., send the output of one command to the input of another command) we use  whats called a pipe `|` . In the example below the output of `zcat` is being piped into the `head` command with the `-n4` flag to print the top 4 lines."
   ]
  },
  {
   "cell_type": "code",
   "execution_count": null,
   "id": "203503bb",
   "metadata": {},
   "outputs": [],
   "source": [
    "zcat concat_fastq/100_spolyrhiza_reads.fastq.gz | head -n4 "
   ]
  },
  {
   "cell_type": "markdown",
   "id": "4489d250",
   "metadata": {},
   "source": [
    "Now we can view the the first sequences in the file with information on the sequence and information on the quality of the bases.\n",
    "\n",
    "## BLAST to identify a sequence\n",
    "\n",
    "We can view our sequence, but what if we want to identify the sequence? To do this we can run a BLAST (basic local alignment search tool) search. BLAST takes a query sequence and compares it against a database of sequences. The results are sequences that the query sequence align too along with scores that asess the alignment. We can run a BLAST search against sequences in the NCBI database using the online BLASTn tool. \n",
    "\n",
    "However, BLAST requires sequences to be in fasta format. Fasta formatted files start with a header line that always begin with > followed by a line that contains a sequence.\n",
    "\n",
    "Since we know the first line in our fastq file is a header beginning with `@` and the second line is the sequence, we can replace the `@` with a `>` using `sed`. `sed` can be a very useful command for searching, finding and replacing or inserting/deleting text within files. In the following command `s/@/>/g` is directing `sed` to search (s) the file for `@` and replace it with `>` throughout the entire file, or, globally (g).\n",
    " "
   ]
  },
  {
   "cell_type": "code",
   "execution_count": null,
   "id": "24e41c9e",
   "metadata": {},
   "outputs": [],
   "source": [
    "zcat < 100_spolyrhiza_reads.fastq.gz | head -n2 | sed 's/@/>/g'"
   ]
  },
  {
   "cell_type": "markdown",
   "id": "84a41729",
   "metadata": {},
   "source": [
    "Next we can copy and past the above sequence into \"Query Sequence\" box in the BLAST tool on [NCBI](https://blast.ncbi.nlm.nih.gov/Blast.cgi?PAGE_TYPE=BlastSearch) and clicking \"BLAST\". \n",
    "\n",
    "Browse through the hits to can confirm what species the sequence is best aligning to.\n",
    "\n",
    "![ra ndom](https://blog.addgene.org/hs-fs/hub/306096/file-893840440-png/4_14_to_6_14/BLAST_screenshots/blastn_align2_cropped.png?width=674&name=blastn_align2_cropped.png)\n",
    "\n",
    "Follow the instructions in the recording of the November meetup video to BLAST and see what species this DNA is matching too. "
   ]
  },
  {
   "cell_type": "markdown",
   "id": "bdb79279",
   "metadata": {},
   "source": [
    "## Counting the number of sequences\n",
    "\n",
    "Other useful command line tools include `grep` and `wc` (word count). Grep uses regular expressions to search patterns in a file. `wc` allows us to count the number of lines or characters in a text file. Since we know that all sequences have a header that start with @ we can use grep and wc to count how many sequences are in our fastq file.\n",
    "\n"
   ]
  },
  {
   "cell_type": "markdown",
   "id": "0296b88e-ba28-4614-931e-19af4dfc2783",
   "metadata": {},
   "source": [
    "First, let's see how `grep` works. What if we wanted to find DNA that matches the following sequence:\n",
    "\"GGTTTTTATGAATTGACCATTTTGGATGTAGCGTTGTCTTAAAGGATTCAGAAGTATTGGTTCTTTAAAAGATGTCTGAGCAACTAAATGATATGTCATATTGGATATGTAATGTTTTGAATTTAATAATATTTTAAGT\"\n",
    "\n",
    "We can use `grep` to do this. Remember since our file is compressed, we will have to `zcat` and `|` too:"
   ]
  },
  {
   "cell_type": "code",
   "execution_count": null,
   "id": "edeee857-a8e5-4d0d-841d-c1b5530a6ae8",
   "metadata": {},
   "outputs": [],
   "source": [
    "zcat concat_fastq/100_spolyrhiza_reads.fastq.gz | grep \"GGTTTTTATGAATTGACCATTTTGGATGTAGCGTTGTCTTAAAGGATTCAGAAGTATTGGTTCTTTAAAAGATGTCTGAGCAACTAAATGATATGTCATATTGGATATGTAATGTTTTGAATTTAATAATATTTTAAGT\""
   ]
  },
  {
   "cell_type": "markdown",
   "id": "557ea39e-68dc-4c2d-8b16-f4a7cfce1aed",
   "metadata": {},
   "source": [
    "`grep` returns the one line in our file that matches our input sequence. However, we don't really know what FASTQ sequence this is. We can tell `grep` to return the line before since line 1 of a FASTQ record has the name and line 2 is the DNA sequence. We will add the `-b1` flag where `-b` means return the line before and `1` means that we just want one line before (we could give it any number n to ask for n lines before). "
   ]
  },
  {
   "cell_type": "code",
   "execution_count": null,
   "id": "e91e98d6-7da1-4496-a0f6-d62e850abf55",
   "metadata": {},
   "outputs": [],
   "source": [
    "zcat concat_fastq/100_spolyrhiza_reads.fastq.gz | grep -b1 \"GGTTTTTATGAATTGACCATTTTGGATGTAGCGTTGTCTTAAAGGATTCAGAAGTATTGGTTCTTTAAAAGATGTCTGAGCAACTAAATGATATGTCATATTGGATATGTAATGTTTTGAATTTAATAATATTTTAAGT\""
   ]
  },
  {
   "cell_type": "markdown",
   "id": "c3c610ad-627c-402c-b320-d1f31a5c0d42",
   "metadata": {},
   "source": [
    "Now, let's  search for lines that with begin with `@`. The `^` denotes \"matches a line that begins with\" the following string. "
   ]
  },
  {
   "cell_type": "code",
   "execution_count": null,
   "id": "b17e1718",
   "metadata": {},
   "outputs": [],
   "source": [
    "zcat concat_fastq/100_spolyrhiza_reads.fastq.gz | grep ^@ "
   ]
  },
  {
   "cell_type": "markdown",
   "id": "b4d06c45-b323-4f23-8e6d-ef3d2f670ede",
   "metadata": {},
   "source": [
    "This result gives us the header information from every FASTQ record. How many record are there? We can use the word count command `wc` to find out. Since we are adding another command, we will use another `|`. "
   ]
  },
  {
   "cell_type": "code",
   "execution_count": null,
   "id": "f9dba74c-9e86-4479-bc7a-284e57cf38ff",
   "metadata": {},
   "outputs": [],
   "source": [
    "zcat concat_fastq/100_spolyrhiza_reads.fastq.gz | grep ^@ | wc "
   ]
  },
  {
   "cell_type": "markdown",
   "id": "5f8e0e87-156b-45ae-b994-326026e2616e",
   "metadata": {},
   "source": [
    "`wc` returns the number of lines, \"words\", and \"characters\". We can use the `-l` to see how many lines (in case we forget which is which)"
   ]
  },
  {
   "cell_type": "code",
   "execution_count": null,
   "id": "731876a1-faa1-42b6-a66b-4d27de555d09",
   "metadata": {},
   "outputs": [],
   "source": [
    "zcat concat_fastq/100_spolyrhiza_reads.fastq.gz | grep ^@ | wc -l"
   ]
  },
  {
   "cell_type": "markdown",
   "id": "31ac4cef",
   "metadata": {},
   "source": [
    "## Challenge\n",
    "\n",
    "How many sequences are in the `spolyrhiza_reads.fastq.gz` file? Use the commands above to form the correct sequence of pipes and commands. Be sure to correctly specifiy the path to the `spolyrhiza_reads.fastq.gz` file\n",
    "\n"
   ]
  },
  {
   "cell_type": "code",
   "execution_count": null,
   "id": "a0e2e885",
   "metadata": {},
   "outputs": [],
   "source": []
  }
 ],
 "metadata": {
  "kernelspec": {
   "display_name": "Bash",
   "language": "bash",
   "name": "bash"
  },
  "language_info": {
   "codemirror_mode": "shell",
   "file_extension": ".sh",
   "mimetype": "text/x-sh",
   "name": "bash"
  }
 },
 "nbformat": 4,
 "nbformat_minor": 5
}
