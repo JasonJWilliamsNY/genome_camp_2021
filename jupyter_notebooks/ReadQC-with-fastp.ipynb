{
 "cells": [
  {
   "cell_type": "markdown",
   "id": "b9b7253b-73f0-4e6d-9ae6-568b406288d8",
   "metadata": {},
   "source": [
    "# Data triming and filtering with fastp"
   ]
  },
  {
   "cell_type": "markdown",
   "id": "e6f45b86-fe59-43d5-90dc-caba8b1fde08",
   "metadata": {},
   "source": [
    "[fastp](https://github.com/OpenGene/fastp) is \"A tool designed to provide fast all-in-one preprocessing for FastQ files. This tool is developed in C++ with multithreading supported to afford high performance.\"\n",
    "\n",
    "In otherwords, we can take the FASTQ files (our sequencing data) and do various things to improve the quality of that data such as\n",
    "\n",
    "- Remove reads that have an overal low quality (e.g., low [Phred score](https://en.wikipedia.org/wiki/Phred_quality_score))\n",
    "- Trim portions of a read (e.g., where the first few/last few bases are of low quality)\n",
    "- Remove reads that are shorter than some desired length (e.g., drop short reads and keep long reads)\n",
    "- Remove adapters (e.g., in sequencing, some artificial DNA \"tags\" may be added to the DNA to be sequenced)\n",
    "- And more..."
   ]
  },
  {
   "cell_type": "markdown",
   "id": "ad2615a8-66b2-47c0-a9e1-387d75df2718",
   "metadata": {},
   "source": [
    "## Installing fastp"
   ]
  },
  {
   "cell_type": "markdown",
   "id": "ec3e3586-194d-4690-aecb-fe919ac6a8e7",
   "metadata": {},
   "source": [
    "As always, we will install the software; again we will use conda. \n",
    "\n",
    "**Important**: Make sure you execute each numbered step "
   ]
  },
  {
   "cell_type": "markdown",
   "id": "6a7b44fc-57af-46dc-8fc7-8ffcdec71f16",
   "metadata": {},
   "source": [
    "1. We will search for the tool we want to install\n",
    "\n",
    "We will use the `conda search` command and the channel (`-c`) flag to search [bioconda](https://bioconda.github.io/)"
   ]
  },
  {
   "cell_type": "code",
   "execution_count": null,
   "id": "08ff28bc-7935-4621-ab56-9e4aa55d2e48",
   "metadata": {},
   "outputs": [],
   "source": [
    "conda search fastp -c bioconda"
   ]
  },
  {
   "cell_type": "markdown",
   "id": "a5210a56-559f-4e19-83b1-bf7e201a0eac",
   "metadata": {},
   "source": [
    "2. Create a conda enviornment\n",
    "\n",
    "Conda uses something called \"enviornments\" which are essentially isolated configurations on our computer where we can included all the needed compatible tools and exlude other tools which are unnesessary or would have conflicts with our desired tool. We will use the `-y` option to install without prompting the user for input, the `--name` option to name the enviornment for the tool. We will enforce versioning (`tool==version`) so that we know what version of a tool was used to do an analysis should we wish to repeat the analysis. \n",
    "\n",
    "**Tip**: Use the latest version where possible, but if you get an error with dependancies, using a lower version may help. Some tools may never be installed successfully using conda, but we will face those when we have too. \n"
   ]
  },
  {
   "cell_type": "code",
   "execution_count": null,
   "id": "5fa0a129-6153-46c1-abe3-76e7f591cdd6",
   "metadata": {},
   "outputs": [],
   "source": [
    "conda create -y --name fastp fastp==0.20.0 -c bioconda"
   ]
  },
  {
   "cell_type": "markdown",
   "id": "5b2150d1-0fef-419f-a7d7-aa258c279c54",
   "metadata": {},
   "source": [
    "3. We will use the `conda init` command so that conda can be configured for this shell"
   ]
  },
  {
   "cell_type": "code",
   "execution_count": null,
   "id": "f464caa7-e680-474f-843c-c132031cf63f",
   "metadata": {},
   "outputs": [],
   "source": [
    "conda init"
   ]
  },
  {
   "cell_type": "markdown",
   "id": "2e634b71-ed21-43d4-acba-e087c06a3312",
   "metadata": {},
   "source": [
    "4. **DON'T SKIP**: We need to restart the computer's [kernal](https://en.wikipedia.org/wiki/Kernel_(operating_system)). Go to the **Kernal** menu and choose **Restart Kernal**"
   ]
  },
  {
   "cell_type": "markdown",
   "id": "0aabe38a-6670-40f0-8a6e-c96ff1a953b0",
   "metadata": {},
   "source": [
    "5. Finally, we can activate the conda enviornment (created with the name used for the environment). When you run the next cell it should return the name of the environment.  "
   ]
  },
  {
   "cell_type": "code",
   "execution_count": null,
   "id": "dad5520c-aca7-44e6-8243-3888a3036a14",
   "metadata": {},
   "outputs": [],
   "source": [
    "conda activate fastp"
   ]
  },
  {
   "cell_type": "markdown",
   "id": "99e42f02-011d-44fe-938c-c60ae3daa672",
   "metadata": {},
   "source": [
    "## Running fastp"
   ]
  },
  {
   "cell_type": "markdown",
   "id": "ef62d909-f641-4842-b2dc-591b92875fce",
   "metadata": {},
   "source": [
    "First, we will be run fastp on a small subset of the sequence reads. In this exercise, the reads are in the `concat_fastq` folder. We will run on a sample that has 100 fastq files from the polyrhiza experiment (`100_spolyrhiza_reads.fastq.gz`). \n",
    "\n",
    "**Tip**: When using commands or searching for files, the tab key will help you autocomplete (and help ensure the files and commands you think you have are actually accessible).\n",
    "\n"
   ]
  },
  {
   "cell_type": "markdown",
   "id": "9c9f0817-b40c-43c4-9c98-cbdef866a24a",
   "metadata": {},
   "source": [
    "### fastp options"
   ]
  },
  {
   "cell_type": "markdown",
   "id": "4cf6d89f-cf81-4cf9-94ca-9ef5210bee66",
   "metadata": {},
   "source": [
    "When we call the `fastp` program here are some options we are likely to use (see the [fastp](https://github.com/OpenGene/fastp) documentation for all options):\n",
    "\n",
    "**Note**: We are working with \"single-end\" data so we will only cover these options\n",
    "\n",
    "- `--in1 <file_name.fastq.gz>`: Name of the input file (this is the file to be trimmed)\n",
    "- `--out1 <file_name.fastq.gz>`: Name of the output FASTQ file that should be created (i.e. whatever read triming and filtering; you get to name the output file, choose something descriptive like \"trimmed\"\n",
    "- `--length_required  <some number>`: Remove reads less than this length (bp)\n",
    "- `--average_qual <some number>`: Remove reads when their average quality (Phred score) is below some number. Don't be too strict with Nanopore reads since we expect a lower Phred score on average. Reads with an average less than 9 have been automaticaly excluded during the initial sequencing. \n",
    "- `--thread <some number>`: How many CPUs to use (more will be faster, but you can only use with as many CPUs as you have launched this application with). \n",
    "- `--report_title \"some title in quotes`: A descriptive title for your summary report\n",
    "- `--html <filename.html>`: The name of the file to save your HTML report in"
   ]
  },
  {
   "cell_type": "markdown",
   "id": "1192b971-7a35-47e5-b604-24a6505f6823",
   "metadata": {},
   "source": [
    "### Example 1 - running fastp on `100_spolyrhiza_reads.fastq.gz`"
   ]
  },
  {
   "cell_type": "markdown",
   "id": "2e53b1ba-6aea-40f7-9aaa-01490f2b2e71",
   "metadata": {},
   "source": [
    "1. Review and run the following `fastp` analysis. Ensure you have a sense of what this command should do\n",
    "\n",
    "**Tip**: Adding a backslash after each command does not change the commands, it just makes it easier to read. These symbols are not interprited by the computer. "
   ]
  },
  {
   "cell_type": "code",
   "execution_count": null,
   "id": "46ab085c-dc46-4604-83b7-17f26b0b6ad2",
   "metadata": {},
   "outputs": [],
   "source": [
    "fastp --in1 concat_fastq/100_spolyrhiza_reads.fastq.gz\\\n",
    "      --out1 concat_fastq/100_spolyrhiza_reads_filtered.fastq.gz\\\n",
    "      --length_required 1000\\\n",
    "      --report_title \"100 Reads Sample Reads>= 1000bp\"\\\n",
    "      --html 100_spolyrhiza_reads_filtered_example.html"
   ]
  },
  {
   "cell_type": "markdown",
   "id": "a56b41a3-c994-4e0d-baea-c499e1cf180f",
   "metadata": {},
   "source": [
    "2. In your Jupyter file browser, you should now have an HTML file entitled `100_spolyrhiza_reads_filtered_example.html`. Double-click to open and examine the file. \n",
    "**Tip**: This file contains graphcs, but you must click the **Trust HTML** button that will be in the upper-left of the tab that opens\n",
    "\n",
    "### Results\n",
    "\n",
    "Clearly, filtering only by length the number of total reads changes (from 100 to only 55 that passed this filter). In Nanopore sequencing, length is not really related to sequencing quality. So the other statistics will change (i.e. the number of bases with a Phred score of at least 20), but these changes are minor/not significant. "
   ]
  },
  {
   "cell_type": "markdown",
   "id": "cb4a23f5-3186-4d73-82b3-d407c5ac0912",
   "metadata": {},
   "source": [
    "## Challenge - Use FastP to create your input sequences for assembly"
   ]
  },
  {
   "cell_type": "markdown",
   "id": "8b5cf89f-32ea-491d-bd61-b27cb068c38b",
   "metadata": {},
   "source": [
    "Now, it's up to you to take the entire sequencing dataset (located in `concat/spolyrhiza_reads.fastq.gz`) and make choices about how much you want to clean and filter this data. The better data you present to the assembly software, the better the genome assembly you will get. However, there are tradeoffs. \n",
    "\n",
    "Think of this as if you were making an apple pie. You go to by apples, but some have brown spots and some are spoiled. No one wants a pie made of spoiled apples. However, if you insist only on 100% perfect apples, there may not be enough for your pie. \n",
    "\n",
    "In your genome assembly, having longer, high quality reads will help. However you need a minimum of 30-40X (coverage)[https://en.wikipedia.org/wiki/Coverage_(genetics)] for most assemblers to work. Our genome is appoximately 140-50 million bases, meaning we want somewhere around 6 billion bases.\n",
    "\n",
    "\n",
    "### What to do\n",
    "\n",
    "1. Try some fastp filter/trimming tools on the `spolyrhiza_reads.fastq.gz` file located at `concat/spolyrhiza_reads.fastq.gz`\n",
    "\n",
    "**Your command should**\n",
    "- start with `fastp`\n",
    "- specify the `--in1` and `--out1` parameters (give your output file a unique and descriptive name)\n",
    "- Use the `--thread` and set to the number of CPUs used when you launched this application on CyVerse\n",
    "- specify the `--report_title` and `--html` parameters (again use unique and descriptive names/titles)\n",
    "\n",
    "2. Take note of the number of reads you start and end with - don't be too strict\n",
    "3. You can combine as several of the triming and flitering tools in the [fastp](https://github.com/OpenGene/fastp) documentation\n",
    "4. You should create at least two outputs of reads for triming and filtering - perhaps one that is very conservative (higher read lengths, base qualities) and one not so conservative. \n",
    "\n",
    "In the end, the only way you will know which of your choices are better is to run the genome assembler and see what results you get. Different assemblers will be tolerant of different lengths and qualities. Some assemblers may actually do better with large numbers of lower quality reads (because they use the sheer number of reads to correct for errors)."
   ]
  },
  {
   "cell_type": "code",
   "execution_count": null,
   "id": "23c53477-b5fd-4a64-a961-d92c8711f1a1",
   "metadata": {},
   "outputs": [],
   "source": [
    "# Add as many cells as you need to run your commands. Make sure you use unique file names and reports each time to keep track. Be sure to save your work to your folder on CyVerse\n"
   ]
  },
  {
   "cell_type": "code",
   "execution_count": null,
   "id": "219791bc-12ed-4224-9ee6-74778b7c181a",
   "metadata": {},
   "outputs": [],
   "source": []
  },
  {
   "cell_type": "code",
   "execution_count": null,
   "id": "13f2bf53-ac04-446a-ac9d-582320d9e719",
   "metadata": {},
   "outputs": [],
   "source": []
  },
  {
   "cell_type": "markdown",
   "id": "4c2a1d9f-cb43-4174-8a18-76a037cbe829",
   "metadata": {},
   "source": [
    "## Document your work"
   ]
  },
  {
   "cell_type": "markdown",
   "id": "d3cedc33-b515-4675-8976-b2d732b6e6a9",
   "metadata": {},
   "source": [
    "This is the first notebook where you will be manipulating a file. We need to keep good track on what changes were made/how a file was produced so that we can fully document our work. In this exercise, it will be critical to know how you trimmed and filtered reads. Knowing your settings will allow us to compare results across everyone who does this experiment. You will also be able to go back and reproduce your work if needed. \n",
    "\n",
    "**Make sure your student folder has your HTML report (which has a copy of your command/settings at the bottom of the report) and your trimmed/filtered FASTQ files.**"
   ]
  }
 ],
 "metadata": {
  "kernelspec": {
   "display_name": "Bash",
   "language": "bash",
   "name": "bash"
  },
  "language_info": {
   "codemirror_mode": "shell",
   "file_extension": ".sh",
   "mimetype": "text/x-sh",
   "name": "bash"
  }
 },
 "nbformat": 4,
 "nbformat_minor": 5
}
